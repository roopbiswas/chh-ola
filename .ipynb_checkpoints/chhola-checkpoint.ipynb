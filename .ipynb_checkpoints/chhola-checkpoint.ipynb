{
 "cells": [
  {
   "cell_type": "markdown",
   "metadata": {
    "colab_type": "text",
    "id": "8X3n2NApwahZ"
   },
   "source": [
    "##chh-OLA"
   ]
  },
  {
   "cell_type": "code",
   "execution_count": 1,
   "metadata": {
    "colab": {},
    "colab_type": "code",
    "id": "SIJtD_yL3G_3"
   },
   "outputs": [],
   "source": [
    "import pandas as pd\n",
    "import numpy as np\n",
    "import matplotlib.pyplot as plt\n",
    "from sklearn.model_selection import train_test_split\n",
    "from sklearn.metrics import mean_squared_error, r2_score\n",
    "%matplotlib inline\n",
    "pd.set_option('display.float_format', lambda x: '%.3f' % x)"
   ]
  },
  {
   "cell_type": "code",
   "execution_count": null,
   "metadata": {
    "colab": {
     "base_uri": "https://localhost:8080/",
     "height": 454
    },
    "colab_type": "code",
    "id": "Co5pOzKg3SjD",
    "outputId": "3ea247db-4cde-4ec2-c836-88b0218637a7"
   },
   "outputs": [],
   "source": [
    "url='https://raw.githubusercontent.com/roopbiswas/chh-ola/master/train.csv?token=AIEZ6SEM7W6AWYTRXBJEMZC5OZQKS'\n",
    "df=pd.read_csv(url,encoding='utf7')\n",
    "df['stored_flag'] = df['stored_flag'].apply(lambda x: 0 if x=='N' else 1)\n",
    "df_mod = df\n",
    "df.info()"
   ]
  },
  {
   "cell_type": "code",
   "execution_count": 3,
   "metadata": {
    "colab": {
     "base_uri": "https://localhost:8080/",
     "height": 330
    },
    "colab_type": "code",
    "id": "53tgchcop6lh",
    "outputId": "c1e113b0-accc-4b81-8ef3-b2f281742fb0"
   },
   "outputs": [
    {
     "data": {
      "text/plain": [
       "ID                    0\n",
       "vendor_id             0\n",
       "pickup_loc            1\n",
       "drop_loc              1\n",
       "driver_tip            2\n",
       "mta_tax               1\n",
       "distance              1\n",
       "pickup_time           1\n",
       "drop_time             1\n",
       "num_passengers        1\n",
       "toll_amount           2\n",
       "payment_method        1\n",
       "rate_code             1\n",
       "stored_flag           0\n",
       "extra_charges         1\n",
       "improvement_charge    2\n",
       "total_amount          2\n",
       "dtype: int64"
      ]
     },
     "execution_count": 3,
     "metadata": {
      "tags": []
     },
     "output_type": "execute_result"
    }
   ],
   "source": [
    "df.isnull().sum()"
   ]
  },
  {
   "cell_type": "code",
   "execution_count": 4,
   "metadata": {
    "colab": {
     "base_uri": "https://localhost:8080/",
     "height": 330
    },
    "colab_type": "code",
    "id": "2qUg_1vDrWl9",
    "outputId": "5f85f17a-7e9b-432a-d614-6c4a5049bdc4"
   },
   "outputs": [
    {
     "data": {
      "text/plain": [
       "ID                      int64\n",
       "vendor_id              object\n",
       "pickup_loc            float64\n",
       "drop_loc              float64\n",
       "driver_tip             object\n",
       "mta_tax                object\n",
       "distance              float64\n",
       "pickup_time            object\n",
       "drop_time              object\n",
       "num_passengers        float64\n",
       "toll_amount            object\n",
       "payment_method        float64\n",
       "rate_code             float64\n",
       "stored_flag             int64\n",
       "extra_charges          object\n",
       "improvement_charge     object\n",
       "total_amount           object\n",
       "dtype: object"
      ]
     },
     "execution_count": 4,
     "metadata": {
      "tags": []
     },
     "output_type": "execute_result"
    }
   ],
   "source": [
    "df.dropna(axis=0,inplace=True)\n",
    "df.dtypes"
   ]
  },
  {
   "cell_type": "code",
   "execution_count": 0,
   "metadata": {
    "colab": {},
    "colab_type": "code",
    "id": "fyJsnUk2i9Ov"
   },
   "outputs": [],
   "source": [
    "df['total_amount'] = df['total_amount'].astype(float)\n",
    "df['driver_tip'] = df['driver_tip'].astype(float)\n",
    "df['mta_tax'] = df['mta_tax'].astype(float)\n",
    "df['pickup_loc'] = df['pickup_loc'].astype(int)\n",
    "df['toll_amount'] = df['toll_amount'].astype(float)\n",
    "df['extra_charges'] = df['extra_charges'].astype(float)\n",
    "df['improvement_charge'] = df['improvement_charge'].astype(float)\n",
    "df['vendor_id'] = df['improvement_charge'].astype(float)"
   ]
  },
  {
   "cell_type": "code",
   "execution_count": 68,
   "metadata": {
    "colab": {
     "base_uri": "https://localhost:8080/",
     "height": 400
    },
    "colab_type": "code",
    "id": "ETKFdF0QnTh8",
    "outputId": "33f25b82-155a-45b9-eef9-20714187ee7b"
   },
   "outputs": [
    {
     "data": {
      "text/html": [
       "<div>\n",
       "<style scoped>\n",
       "    .dataframe tbody tr th:only-of-type {\n",
       "        vertical-align: middle;\n",
       "    }\n",
       "\n",
       "    .dataframe tbody tr th {\n",
       "        vertical-align: top;\n",
       "    }\n",
       "\n",
       "    .dataframe thead th {\n",
       "        text-align: right;\n",
       "    }\n",
       "</style>\n",
       "<table border=\"1\" class=\"dataframe\">\n",
       "  <thead>\n",
       "    <tr style=\"text-align: right;\">\n",
       "      <th></th>\n",
       "      <th>ID</th>\n",
       "      <th>vendor_id</th>\n",
       "      <th>pickup_loc</th>\n",
       "      <th>drop_loc</th>\n",
       "      <th>driver_tip</th>\n",
       "      <th>mta_tax</th>\n",
       "      <th>distance</th>\n",
       "      <th>pickup_time</th>\n",
       "      <th>drop_time</th>\n",
       "      <th>num_passengers</th>\n",
       "      <th>toll_amount</th>\n",
       "      <th>payment_method</th>\n",
       "      <th>rate_code</th>\n",
       "      <th>stored_flag</th>\n",
       "      <th>extra_charges</th>\n",
       "      <th>improvement_charge</th>\n",
       "      <th>total_amount</th>\n",
       "    </tr>\n",
       "  </thead>\n",
       "  <tbody>\n",
       "    <tr>\n",
       "      <th>0</th>\n",
       "      <td>0</td>\n",
       "      <td>0.300</td>\n",
       "      <td>170</td>\n",
       "      <td>233.000</td>\n",
       "      <td>1.830</td>\n",
       "      <td>0.500</td>\n",
       "      <td>0.700</td>\n",
       "      <td>04/04/2017 05:59:43 PM</td>\n",
       "      <td>04/04/2017 06:05:04 PM</td>\n",
       "      <td>1.000</td>\n",
       "      <td>0.000</td>\n",
       "      <td>1.000</td>\n",
       "      <td>1.000</td>\n",
       "      <td>0</td>\n",
       "      <td>1.000</td>\n",
       "      <td>0.300</td>\n",
       "      <td>9.130</td>\n",
       "    </tr>\n",
       "    <tr>\n",
       "      <th>1</th>\n",
       "      <td>1</td>\n",
       "      <td>0.300</td>\n",
       "      <td>151</td>\n",
       "      <td>243.000</td>\n",
       "      <td>3.560</td>\n",
       "      <td>0.500</td>\n",
       "      <td>4.640</td>\n",
       "      <td>04/03/2017 07:03:34 PM</td>\n",
       "      <td>04/03/2017 07:20:04 PM</td>\n",
       "      <td>1.000</td>\n",
       "      <td>0.000</td>\n",
       "      <td>1.000</td>\n",
       "      <td>1.000</td>\n",
       "      <td>0</td>\n",
       "      <td>1.000</td>\n",
       "      <td>0.300</td>\n",
       "      <td>21.360</td>\n",
       "    </tr>\n",
       "    <tr>\n",
       "      <th>2</th>\n",
       "      <td>2</td>\n",
       "      <td>0.300</td>\n",
       "      <td>68</td>\n",
       "      <td>90.000</td>\n",
       "      <td>1.500</td>\n",
       "      <td>0.500</td>\n",
       "      <td>1.290</td>\n",
       "      <td>04/03/2017 03:06:13 PM</td>\n",
       "      <td>04/03/2017 03:12:30 PM</td>\n",
       "      <td>2.000</td>\n",
       "      <td>0.000</td>\n",
       "      <td>1.000</td>\n",
       "      <td>1.000</td>\n",
       "      <td>0</td>\n",
       "      <td>0.000</td>\n",
       "      <td>0.300</td>\n",
       "      <td>8.800</td>\n",
       "    </tr>\n",
       "    <tr>\n",
       "      <th>3</th>\n",
       "      <td>3</td>\n",
       "      <td>0.300</td>\n",
       "      <td>142</td>\n",
       "      <td>234.000</td>\n",
       "      <td>1.500</td>\n",
       "      <td>0.500</td>\n",
       "      <td>2.740</td>\n",
       "      <td>04/04/2017 08:10:52 AM</td>\n",
       "      <td>04/04/2017 08:27:00 AM</td>\n",
       "      <td>1.000</td>\n",
       "      <td>0.000</td>\n",
       "      <td>1.000</td>\n",
       "      <td>1.000</td>\n",
       "      <td>0</td>\n",
       "      <td>0.000</td>\n",
       "      <td>0.300</td>\n",
       "      <td>14.800</td>\n",
       "    </tr>\n",
       "    <tr>\n",
       "      <th>4</th>\n",
       "      <td>4</td>\n",
       "      <td>0.300</td>\n",
       "      <td>238</td>\n",
       "      <td>238.000</td>\n",
       "      <td>0.000</td>\n",
       "      <td>0.500</td>\n",
       "      <td>0.450</td>\n",
       "      <td>04/05/2017 02:02:59 PM</td>\n",
       "      <td>04/05/2017 02:05:41 PM</td>\n",
       "      <td>6.000</td>\n",
       "      <td>0.000</td>\n",
       "      <td>2.000</td>\n",
       "      <td>1.000</td>\n",
       "      <td>0</td>\n",
       "      <td>0.000</td>\n",
       "      <td>0.300</td>\n",
       "      <td>4.800</td>\n",
       "    </tr>\n",
       "  </tbody>\n",
       "</table>\n",
       "</div>"
      ],
      "text/plain": [
       "   ID  vendor_id  pickup_loc  ...  extra_charges  improvement_charge  total_amount\n",
       "0   0      0.300         170  ...          1.000               0.300         9.130\n",
       "1   1      0.300         151  ...          1.000               0.300        21.360\n",
       "2   2      0.300          68  ...          0.000               0.300         8.800\n",
       "3   3      0.300         142  ...          0.000               0.300        14.800\n",
       "4   4      0.300         238  ...          0.000               0.300         4.800\n",
       "\n",
       "[5 rows x 17 columns]"
      ]
     },
     "execution_count": 68,
     "metadata": {
      "tags": []
     },
     "output_type": "execute_result"
    }
   ],
   "source": [
    "df.head()"
   ]
  },
  {
   "cell_type": "code",
   "execution_count": 69,
   "metadata": {
    "colab": {
     "base_uri": "https://localhost:8080/",
     "height": 320
    },
    "colab_type": "code",
    "id": "LANrp0hihFBP",
    "outputId": "48c916bf-2204-46ef-9562-8ecc8b191fd9"
   },
   "outputs": [
    {
     "data": {
      "text/html": [
       "<div>\n",
       "<style scoped>\n",
       "    .dataframe tbody tr th:only-of-type {\n",
       "        vertical-align: middle;\n",
       "    }\n",
       "\n",
       "    .dataframe tbody tr th {\n",
       "        vertical-align: top;\n",
       "    }\n",
       "\n",
       "    .dataframe thead th {\n",
       "        text-align: right;\n",
       "    }\n",
       "</style>\n",
       "<table border=\"1\" class=\"dataframe\">\n",
       "  <thead>\n",
       "    <tr style=\"text-align: right;\">\n",
       "      <th></th>\n",
       "      <th>ID</th>\n",
       "      <th>vendor_id</th>\n",
       "      <th>pickup_loc</th>\n",
       "      <th>drop_loc</th>\n",
       "      <th>driver_tip</th>\n",
       "      <th>mta_tax</th>\n",
       "      <th>distance</th>\n",
       "      <th>num_passengers</th>\n",
       "      <th>toll_amount</th>\n",
       "      <th>payment_method</th>\n",
       "      <th>rate_code</th>\n",
       "      <th>stored_flag</th>\n",
       "      <th>extra_charges</th>\n",
       "      <th>improvement_charge</th>\n",
       "      <th>total_amount</th>\n",
       "    </tr>\n",
       "  </thead>\n",
       "  <tbody>\n",
       "    <tr>\n",
       "      <th>count</th>\n",
       "      <td>1048573.000</td>\n",
       "      <td>1048573.000</td>\n",
       "      <td>1048573.000</td>\n",
       "      <td>1048573.000</td>\n",
       "      <td>1048573.000</td>\n",
       "      <td>1048573.000</td>\n",
       "      <td>1048573.000</td>\n",
       "      <td>1048573.000</td>\n",
       "      <td>1048573.000</td>\n",
       "      <td>1048573.000</td>\n",
       "      <td>1048573.000</td>\n",
       "      <td>1048573.000</td>\n",
       "      <td>1048573.000</td>\n",
       "      <td>1048573.000</td>\n",
       "      <td>1048573.000</td>\n",
       "    </tr>\n",
       "    <tr>\n",
       "      <th>mean</th>\n",
       "      <td>524287.352</td>\n",
       "      <td>0.300</td>\n",
       "      <td>164.808</td>\n",
       "      <td>162.668</td>\n",
       "      <td>1.895</td>\n",
       "      <td>0.497</td>\n",
       "      <td>2.860</td>\n",
       "      <td>1.591</td>\n",
       "      <td>0.346</td>\n",
       "      <td>1.318</td>\n",
       "      <td>1.043</td>\n",
       "      <td>0.007</td>\n",
       "      <td>0.341</td>\n",
       "      <td>0.300</td>\n",
       "      <td>16.218</td>\n",
       "    </tr>\n",
       "    <tr>\n",
       "      <th>std</th>\n",
       "      <td>302697.642</td>\n",
       "      <td>0.014</td>\n",
       "      <td>65.793</td>\n",
       "      <td>69.531</td>\n",
       "      <td>2.654</td>\n",
       "      <td>0.042</td>\n",
       "      <td>3.710</td>\n",
       "      <td>1.254</td>\n",
       "      <td>2.138</td>\n",
       "      <td>0.485</td>\n",
       "      <td>0.562</td>\n",
       "      <td>0.082</td>\n",
       "      <td>0.484</td>\n",
       "      <td>0.014</td>\n",
       "      <td>15.096</td>\n",
       "    </tr>\n",
       "    <tr>\n",
       "      <th>min</th>\n",
       "      <td>0.000</td>\n",
       "      <td>-0.300</td>\n",
       "      <td>1.000</td>\n",
       "      <td>1.000</td>\n",
       "      <td>-10.090</td>\n",
       "      <td>-0.500</td>\n",
       "      <td>0.000</td>\n",
       "      <td>0.000</td>\n",
       "      <td>-5.760</td>\n",
       "      <td>1.000</td>\n",
       "      <td>1.000</td>\n",
       "      <td>0.000</td>\n",
       "      <td>-4.500</td>\n",
       "      <td>-0.300</td>\n",
       "      <td>-260.800</td>\n",
       "    </tr>\n",
       "    <tr>\n",
       "      <th>25%</th>\n",
       "      <td>262144.000</td>\n",
       "      <td>0.300</td>\n",
       "      <td>125.000</td>\n",
       "      <td>113.000</td>\n",
       "      <td>0.000</td>\n",
       "      <td>0.500</td>\n",
       "      <td>0.930</td>\n",
       "      <td>1.000</td>\n",
       "      <td>0.000</td>\n",
       "      <td>1.000</td>\n",
       "      <td>1.000</td>\n",
       "      <td>0.000</td>\n",
       "      <td>0.000</td>\n",
       "      <td>0.300</td>\n",
       "      <td>8.500</td>\n",
       "    </tr>\n",
       "    <tr>\n",
       "      <th>50%</th>\n",
       "      <td>524287.000</td>\n",
       "      <td>0.300</td>\n",
       "      <td>162.000</td>\n",
       "      <td>162.000</td>\n",
       "      <td>1.450</td>\n",
       "      <td>0.500</td>\n",
       "      <td>1.600</td>\n",
       "      <td>1.000</td>\n",
       "      <td>0.000</td>\n",
       "      <td>1.000</td>\n",
       "      <td>1.000</td>\n",
       "      <td>0.000</td>\n",
       "      <td>0.000</td>\n",
       "      <td>0.300</td>\n",
       "      <td>11.760</td>\n",
       "    </tr>\n",
       "    <tr>\n",
       "      <th>75%</th>\n",
       "      <td>786431.000</td>\n",
       "      <td>0.300</td>\n",
       "      <td>233.000</td>\n",
       "      <td>233.000</td>\n",
       "      <td>2.450</td>\n",
       "      <td>0.500</td>\n",
       "      <td>2.900</td>\n",
       "      <td>2.000</td>\n",
       "      <td>0.000</td>\n",
       "      <td>2.000</td>\n",
       "      <td>1.000</td>\n",
       "      <td>0.000</td>\n",
       "      <td>0.500</td>\n",
       "      <td>0.300</td>\n",
       "      <td>17.750</td>\n",
       "    </tr>\n",
       "    <tr>\n",
       "      <th>max</th>\n",
       "      <td>1048574.000</td>\n",
       "      <td>0.300</td>\n",
       "      <td>265.000</td>\n",
       "      <td>265.000</td>\n",
       "      <td>400.000</td>\n",
       "      <td>0.500</td>\n",
       "      <td>113.800</td>\n",
       "      <td>9.000</td>\n",
       "      <td>905.760</td>\n",
       "      <td>4.000</td>\n",
       "      <td>99.000</td>\n",
       "      <td>1.000</td>\n",
       "      <td>6.500</td>\n",
       "      <td>0.300</td>\n",
       "      <td>2759.370</td>\n",
       "    </tr>\n",
       "  </tbody>\n",
       "</table>\n",
       "</div>"
      ],
      "text/plain": [
       "               ID   vendor_id  ...  improvement_charge  total_amount\n",
       "count 1048573.000 1048573.000  ...         1048573.000   1048573.000\n",
       "mean   524287.352       0.300  ...               0.300        16.218\n",
       "std    302697.642       0.014  ...               0.014        15.096\n",
       "min         0.000      -0.300  ...              -0.300      -260.800\n",
       "25%    262144.000       0.300  ...               0.300         8.500\n",
       "50%    524287.000       0.300  ...               0.300        11.760\n",
       "75%    786431.000       0.300  ...               0.300        17.750\n",
       "max   1048574.000       0.300  ...               0.300      2759.370\n",
       "\n",
       "[8 rows x 15 columns]"
      ]
     },
     "execution_count": 69,
     "metadata": {
      "tags": []
     },
     "output_type": "execute_result"
    }
   ],
   "source": [
    "df.describe()"
   ]
  },
  {
   "cell_type": "markdown",
   "metadata": {
    "colab_type": "text",
    "id": "1OWGG4d48JxV"
   },
   "source": []
  },
  {
   "cell_type": "code",
   "execution_count": 10,
   "metadata": {
    "colab": {
     "base_uri": "https://localhost:8080/",
     "height": 69
    },
    "colab_type": "code",
    "id": "oKxMbboZhNNK",
    "outputId": "6529bfaa-2a67-4486-b82b-85885a7260a0"
   },
   "outputs": [
    {
     "name": "stdout",
     "output_type": "stream",
     "text": [
      "Train dataset size:  629143\n",
      "CV size:  209715\n",
      "Test size:  209715\n"
     ]
    }
   ],
   "source": [
    "X = df.drop(['total_amount','ID','pickup_time','drop_time' ], axis=1)\n",
    "y = df['total_amount']\n",
    "X_train, X_other, y_train, y_other = train_test_split(X, y, test_size=0.4, random_state=42)\n",
    "X_cv, X_test, y_cv, y_test = train_test_split(X_other, y_other, test_size=0.5, random_state=42)\n",
    "\n",
    "\n",
    "\n",
    "print(\"Train dataset size: \", X_train.shape[0])\n",
    "print(\"CV size: \", X_cv.shape[0])\n",
    "print(\"Test size: \", X_test.shape[0])"
   ]
  },
  {
   "cell_type": "code",
   "execution_count": 0,
   "metadata": {
    "colab": {},
    "colab_type": "code",
    "id": "E5ythxP-mfaB"
   },
   "outputs": [],
   "source": [
    "def model_results(X_train, y_train, X_test, y_test, model):\n",
    "    \"\"\"Print model parameters of RMSE and R-square on training and testing sets.\n",
    "    \"\"\"\n",
    "    \n",
    "    y_train_pred = model.predict(X_train)\n",
    "    y_test_pred = model.predict(X_test)\n",
    "    print(\"----Training Data results----\")\n",
    "    print(\"RMSE: ${:.1f}\".format(mean_squared_error(y_train, y_train_pred)**0.5))\n",
    "    print(\"R2: {:.2f}\\n\".format(r2_score(y_train, y_train_pred)))    \n",
    "    print(\"----Test Data results----\")\n",
    "    print(\"RMSE: ${:.1f}\".format(mean_squared_error(y_test, y_test_pred)**0.5))\n",
    "    print(\"R2: {:.2f}\\n\".format(r2_score(y_test, y_test_pred)))"
   ]
  },
  {
   "cell_type": "code",
   "execution_count": 12,
   "metadata": {
    "colab": {
     "base_uri": "https://localhost:8080/",
     "height": 156
    },
    "colab_type": "code",
    "id": "Hi2HUJ8Dl_P-",
    "outputId": "26f5c3dd-fa25-4712-f3bc-aba0ece3e91d"
   },
   "outputs": [
    {
     "name": "stdout",
     "output_type": "stream",
     "text": [
      "----Training Data results----\n",
      "RMSE: $7.5\n",
      "R2: 0.77\n",
      "\n",
      "----Test Data results----\n",
      "RMSE: $4.1\n",
      "R2: 0.92\n",
      "\n"
     ]
    }
   ],
   "source": [
    "from sklearn.linear_model import LinearRegression\n",
    "\n",
    "\n",
    "lm = LinearRegression().fit(X_train,y_train)\n",
    "\n",
    "model_results(X_train, y_train, X_test, y_test, lm)"
   ]
  },
  {
   "cell_type": "code",
   "execution_count": 0,
   "metadata": {
    "colab": {
     "base_uri": "https://localhost:8080/",
     "height": 72
    },
    "colab_type": "code",
    "id": "P4ESrkCgrhGm",
    "outputId": "7570d7d6-0254-4a09-a5bd-4691bc7c63f4"
   },
   "outputs": [
    {
     "name": "stderr",
     "output_type": "stream",
     "text": [
      "/usr/local/lib/python3.6/dist-packages/sklearn/svm/base.py:193: FutureWarning: The default value of gamma will change from 'auto' to 'scale' in version 0.22 to account better for unscaled features. Set gamma explicitly to 'auto' or 'scale' to avoid this warning.\n",
      "  \"avoid this warning.\", FutureWarning)\n"
     ]
    }
   ],
   "source": [
    "from sklearn.svm import SVR\n",
    "\n",
    "\n",
    "reg = SVR().fit(X_train,y_train)\n",
    "model_results(X_train, y_train, X_test, y_test, reg)"
   ]
  },
  {
   "cell_type": "code",
   "execution_count": 0,
   "metadata": {
    "colab": {},
    "colab_type": "code",
    "id": "Z6-Qe5MH8L3R"
   },
   "outputs": [],
   "source": [
    "# pd.plotting.scatter_matrix(frame = df[[ 'total_amount' , 'pickup_loc' , 'drop_loc' , 'mta_tax' , 'distance' , 'pickup_time' , 'drop_time' , 'num_passengers' , 'toll_amount' ]] , figsize = (7,7))"
   ]
  },
  {
   "cell_type": "code",
   "execution_count": 72,
   "metadata": {
    "colab": {
     "base_uri": "https://localhost:8080/",
     "height": 330
    },
    "colab_type": "code",
    "id": "NeGb-mAA52ke",
    "outputId": "532c82c0-a453-4a62-d79a-c89be9c188c2"
   },
   "outputs": [
    {
     "data": {
      "text/plain": [
       "ID                      int64\n",
       "vendor_id             float64\n",
       "pickup_loc              int64\n",
       "drop_loc              float64\n",
       "driver_tip            float64\n",
       "mta_tax               float64\n",
       "distance              float64\n",
       "pickup_time            object\n",
       "drop_time              object\n",
       "num_passengers        float64\n",
       "toll_amount           float64\n",
       "payment_method        float64\n",
       "rate_code             float64\n",
       "stored_flag             int64\n",
       "extra_charges         float64\n",
       "improvement_charge    float64\n",
       "total_amount          float64\n",
       "dtype: object"
      ]
     },
     "execution_count": 72,
     "metadata": {
      "tags": []
     },
     "output_type": "execute_result"
    }
   ],
   "source": [
    "df.dtypes"
   ]
  },
  {
   "cell_type": "code",
   "execution_count": 71,
   "metadata": {
    "colab": {
     "base_uri": "https://localhost:8080/",
     "height": 555
    },
    "colab_type": "code",
    "id": "bCm6A9zQjmDJ",
    "outputId": "e9783fae-feda-407a-cc9d-2ba043ddebe9"
   },
   "outputs": [
    {
     "ename": "TypeError",
     "evalue": "ignored",
     "output_type": "error",
     "traceback": [
      "\u001b[0;31m---------------------------------------------------------------------------\u001b[0m",
      "\u001b[0;31mTypeError\u001b[0m                                 Traceback (most recent call last)",
      "\u001b[0;32m/usr/local/lib/python3.6/dist-packages/pandas/core/ops.py\u001b[0m in \u001b[0;36mna_op\u001b[0;34m(x, y)\u001b[0m\n\u001b[1;32m   1504\u001b[0m         \u001b[0;32mtry\u001b[0m\u001b[0;34m:\u001b[0m\u001b[0;34m\u001b[0m\u001b[0;34m\u001b[0m\u001b[0m\n\u001b[0;32m-> 1505\u001b[0;31m             \u001b[0mresult\u001b[0m \u001b[0;34m=\u001b[0m \u001b[0mexpressions\u001b[0m\u001b[0;34m.\u001b[0m\u001b[0mevaluate\u001b[0m\u001b[0;34m(\u001b[0m\u001b[0mop\u001b[0m\u001b[0;34m,\u001b[0m \u001b[0mstr_rep\u001b[0m\u001b[0;34m,\u001b[0m \u001b[0mx\u001b[0m\u001b[0;34m,\u001b[0m \u001b[0my\u001b[0m\u001b[0;34m,\u001b[0m \u001b[0;34m**\u001b[0m\u001b[0meval_kwargs\u001b[0m\u001b[0;34m)\u001b[0m\u001b[0;34m\u001b[0m\u001b[0;34m\u001b[0m\u001b[0m\n\u001b[0m\u001b[1;32m   1506\u001b[0m         \u001b[0;32mexcept\u001b[0m \u001b[0mTypeError\u001b[0m\u001b[0;34m:\u001b[0m\u001b[0;34m\u001b[0m\u001b[0;34m\u001b[0m\u001b[0m\n",
      "\u001b[0;32m/usr/local/lib/python3.6/dist-packages/pandas/core/computation/expressions.py\u001b[0m in \u001b[0;36mevaluate\u001b[0;34m(op, op_str, a, b, use_numexpr, **eval_kwargs)\u001b[0m\n\u001b[1;32m    207\u001b[0m     \u001b[0;32mif\u001b[0m \u001b[0muse_numexpr\u001b[0m\u001b[0;34m:\u001b[0m\u001b[0;34m\u001b[0m\u001b[0;34m\u001b[0m\u001b[0m\n\u001b[0;32m--> 208\u001b[0;31m         \u001b[0;32mreturn\u001b[0m \u001b[0m_evaluate\u001b[0m\u001b[0;34m(\u001b[0m\u001b[0mop\u001b[0m\u001b[0;34m,\u001b[0m \u001b[0mop_str\u001b[0m\u001b[0;34m,\u001b[0m \u001b[0ma\u001b[0m\u001b[0;34m,\u001b[0m \u001b[0mb\u001b[0m\u001b[0;34m,\u001b[0m \u001b[0;34m**\u001b[0m\u001b[0meval_kwargs\u001b[0m\u001b[0;34m)\u001b[0m\u001b[0;34m\u001b[0m\u001b[0;34m\u001b[0m\u001b[0m\n\u001b[0m\u001b[1;32m    209\u001b[0m     \u001b[0;32mreturn\u001b[0m \u001b[0m_evaluate_standard\u001b[0m\u001b[0;34m(\u001b[0m\u001b[0mop\u001b[0m\u001b[0;34m,\u001b[0m \u001b[0mop_str\u001b[0m\u001b[0;34m,\u001b[0m \u001b[0ma\u001b[0m\u001b[0;34m,\u001b[0m \u001b[0mb\u001b[0m\u001b[0;34m)\u001b[0m\u001b[0;34m\u001b[0m\u001b[0;34m\u001b[0m\u001b[0m\n",
      "\u001b[0;32m/usr/local/lib/python3.6/dist-packages/pandas/core/computation/expressions.py\u001b[0m in \u001b[0;36m_evaluate_numexpr\u001b[0;34m(op, op_str, a, b, truediv, reversed, **eval_kwargs)\u001b[0m\n\u001b[1;32m    122\u001b[0m     \u001b[0;32mif\u001b[0m \u001b[0mresult\u001b[0m \u001b[0;32mis\u001b[0m \u001b[0;32mNone\u001b[0m\u001b[0;34m:\u001b[0m\u001b[0;34m\u001b[0m\u001b[0;34m\u001b[0m\u001b[0m\n\u001b[0;32m--> 123\u001b[0;31m         \u001b[0mresult\u001b[0m \u001b[0;34m=\u001b[0m \u001b[0m_evaluate_standard\u001b[0m\u001b[0;34m(\u001b[0m\u001b[0mop\u001b[0m\u001b[0;34m,\u001b[0m \u001b[0mop_str\u001b[0m\u001b[0;34m,\u001b[0m \u001b[0ma\u001b[0m\u001b[0;34m,\u001b[0m \u001b[0mb\u001b[0m\u001b[0;34m)\u001b[0m\u001b[0;34m\u001b[0m\u001b[0;34m\u001b[0m\u001b[0m\n\u001b[0m\u001b[1;32m    124\u001b[0m \u001b[0;34m\u001b[0m\u001b[0m\n",
      "\u001b[0;32m/usr/local/lib/python3.6/dist-packages/pandas/core/computation/expressions.py\u001b[0m in \u001b[0;36m_evaluate_standard\u001b[0;34m(op, op_str, a, b, **eval_kwargs)\u001b[0m\n\u001b[1;32m     67\u001b[0m     \u001b[0;32mwith\u001b[0m \u001b[0mnp\u001b[0m\u001b[0;34m.\u001b[0m\u001b[0merrstate\u001b[0m\u001b[0;34m(\u001b[0m\u001b[0mall\u001b[0m\u001b[0;34m=\u001b[0m\u001b[0;34m'ignore'\u001b[0m\u001b[0;34m)\u001b[0m\u001b[0;34m:\u001b[0m\u001b[0;34m\u001b[0m\u001b[0;34m\u001b[0m\u001b[0m\n\u001b[0;32m---> 68\u001b[0;31m         \u001b[0;32mreturn\u001b[0m \u001b[0mop\u001b[0m\u001b[0;34m(\u001b[0m\u001b[0ma\u001b[0m\u001b[0;34m,\u001b[0m \u001b[0mb\u001b[0m\u001b[0;34m)\u001b[0m\u001b[0;34m\u001b[0m\u001b[0;34m\u001b[0m\u001b[0m\n\u001b[0m\u001b[1;32m     69\u001b[0m \u001b[0;34m\u001b[0m\u001b[0m\n",
      "\u001b[0;31mTypeError\u001b[0m: unsupported operand type(s) for -: 'str' and 'str'",
      "\nDuring handling of the above exception, another exception occurred:\n",
      "\u001b[0;31mTypeError\u001b[0m                                 Traceback (most recent call last)",
      "\u001b[0;32m/usr/local/lib/python3.6/dist-packages/pandas/core/ops.py\u001b[0m in \u001b[0;36msafe_na_op\u001b[0;34m(lvalues, rvalues)\u001b[0m\n\u001b[1;32m   1528\u001b[0m             \u001b[0;32mwith\u001b[0m \u001b[0mnp\u001b[0m\u001b[0;34m.\u001b[0m\u001b[0merrstate\u001b[0m\u001b[0;34m(\u001b[0m\u001b[0mall\u001b[0m\u001b[0;34m=\u001b[0m\u001b[0;34m'ignore'\u001b[0m\u001b[0;34m)\u001b[0m\u001b[0;34m:\u001b[0m\u001b[0;34m\u001b[0m\u001b[0;34m\u001b[0m\u001b[0m\n\u001b[0;32m-> 1529\u001b[0;31m                 \u001b[0;32mreturn\u001b[0m \u001b[0mna_op\u001b[0m\u001b[0;34m(\u001b[0m\u001b[0mlvalues\u001b[0m\u001b[0;34m,\u001b[0m \u001b[0mrvalues\u001b[0m\u001b[0;34m)\u001b[0m\u001b[0;34m\u001b[0m\u001b[0;34m\u001b[0m\u001b[0m\n\u001b[0m\u001b[1;32m   1530\u001b[0m         \u001b[0;32mexcept\u001b[0m \u001b[0mException\u001b[0m\u001b[0;34m:\u001b[0m\u001b[0;34m\u001b[0m\u001b[0;34m\u001b[0m\u001b[0m\n",
      "\u001b[0;32m/usr/local/lib/python3.6/dist-packages/pandas/core/ops.py\u001b[0m in \u001b[0;36mna_op\u001b[0;34m(x, y)\u001b[0m\n\u001b[1;32m   1506\u001b[0m         \u001b[0;32mexcept\u001b[0m \u001b[0mTypeError\u001b[0m\u001b[0;34m:\u001b[0m\u001b[0;34m\u001b[0m\u001b[0;34m\u001b[0m\u001b[0m\n\u001b[0;32m-> 1507\u001b[0;31m             \u001b[0mresult\u001b[0m \u001b[0;34m=\u001b[0m \u001b[0mmasked_arith_op\u001b[0m\u001b[0;34m(\u001b[0m\u001b[0mx\u001b[0m\u001b[0;34m,\u001b[0m \u001b[0my\u001b[0m\u001b[0;34m,\u001b[0m \u001b[0mop\u001b[0m\u001b[0;34m)\u001b[0m\u001b[0;34m\u001b[0m\u001b[0;34m\u001b[0m\u001b[0m\n\u001b[0m\u001b[1;32m   1508\u001b[0m \u001b[0;34m\u001b[0m\u001b[0m\n",
      "\u001b[0;32m/usr/local/lib/python3.6/dist-packages/pandas/core/ops.py\u001b[0m in \u001b[0;36mmasked_arith_op\u001b[0;34m(x, y, op)\u001b[0m\n\u001b[1;32m   1008\u001b[0m                 result[mask] = op(xrav[mask],\n\u001b[0;32m-> 1009\u001b[0;31m                                   com.values_from_object(yrav[mask]))\n\u001b[0m\u001b[1;32m   1010\u001b[0m \u001b[0;34m\u001b[0m\u001b[0m\n",
      "\u001b[0;31mTypeError\u001b[0m: unsupported operand type(s) for -: 'str' and 'str'",
      "\nDuring handling of the above exception, another exception occurred:\n",
      "\u001b[0;31mTypeError\u001b[0m                                 Traceback (most recent call last)",
      "\u001b[0;32m<ipython-input-71-b1254ca24d1a>\u001b[0m in \u001b[0;36m<module>\u001b[0;34m()\u001b[0m\n\u001b[1;32m      1\u001b[0m \u001b[0mX\u001b[0m \u001b[0;34m=\u001b[0m \u001b[0mdf\u001b[0m\u001b[0;34m.\u001b[0m\u001b[0mdrop\u001b[0m\u001b[0;34m(\u001b[0m\u001b[0;34m[\u001b[0m\u001b[0;34m'total_amount'\u001b[0m\u001b[0;34m,\u001b[0m\u001b[0;34m'ID'\u001b[0m\u001b[0;34m,\u001b[0m\u001b[0;34m'pickup_time'\u001b[0m\u001b[0;34m,\u001b[0m\u001b[0;34m'drop_time'\u001b[0m \u001b[0;34m]\u001b[0m\u001b[0;34m,\u001b[0m \u001b[0maxis\u001b[0m\u001b[0;34m=\u001b[0m\u001b[0;36m1\u001b[0m\u001b[0;34m)\u001b[0m\u001b[0;34m\u001b[0m\u001b[0;34m\u001b[0m\u001b[0m\n\u001b[0;32m----> 2\u001b[0;31m \u001b[0mz\u001b[0m \u001b[0;34m=\u001b[0m\u001b[0mdf\u001b[0m\u001b[0;34m[\u001b[0m\u001b[0;34m'drop_time'\u001b[0m\u001b[0;34m]\u001b[0m \u001b[0;34m-\u001b[0m \u001b[0mdf\u001b[0m\u001b[0;34m[\u001b[0m\u001b[0;34m'pickup_time'\u001b[0m\u001b[0;34m]\u001b[0m\u001b[0;34m\u001b[0m\u001b[0;34m\u001b[0m\u001b[0m\n\u001b[0m\u001b[1;32m      3\u001b[0m \u001b[0mX\u001b[0m\u001b[0;34m[\u001b[0m\u001b[0;34m'travel_time'\u001b[0m\u001b[0;34m]\u001b[0m \u001b[0;34m=\u001b[0m \u001b[0;34m[\u001b[0m\u001b[0mz1\u001b[0m\u001b[0;34m.\u001b[0m\u001b[0mtotal_seconds\u001b[0m\u001b[0;34m(\u001b[0m\u001b[0;34m)\u001b[0m \u001b[0;32mfor\u001b[0m \u001b[0mz1\u001b[0m \u001b[0;32min\u001b[0m \u001b[0mz\u001b[0m\u001b[0;34m]\u001b[0m\u001b[0;34m\u001b[0m\u001b[0;34m\u001b[0m\u001b[0m\n\u001b[1;32m      4\u001b[0m \u001b[0my\u001b[0m \u001b[0;34m=\u001b[0m \u001b[0mdf\u001b[0m\u001b[0;34m[\u001b[0m\u001b[0;34m'total_amount'\u001b[0m\u001b[0;34m]\u001b[0m\u001b[0;34m\u001b[0m\u001b[0;34m\u001b[0m\u001b[0m\n\u001b[1;32m      5\u001b[0m \u001b[0mX_train\u001b[0m\u001b[0;34m,\u001b[0m \u001b[0mX_other\u001b[0m\u001b[0;34m,\u001b[0m \u001b[0my_train\u001b[0m\u001b[0;34m,\u001b[0m \u001b[0my_other\u001b[0m \u001b[0;34m=\u001b[0m \u001b[0mtrain_test_split\u001b[0m\u001b[0;34m(\u001b[0m\u001b[0mX\u001b[0m\u001b[0;34m,\u001b[0m \u001b[0my\u001b[0m\u001b[0;34m,\u001b[0m \u001b[0mtest_size\u001b[0m\u001b[0;34m=\u001b[0m\u001b[0;36m0.4\u001b[0m\u001b[0;34m,\u001b[0m \u001b[0mrandom_state\u001b[0m\u001b[0;34m=\u001b[0m\u001b[0;36m42\u001b[0m\u001b[0;34m)\u001b[0m\u001b[0;34m\u001b[0m\u001b[0;34m\u001b[0m\u001b[0m\n",
      "\u001b[0;32m/usr/local/lib/python3.6/dist-packages/pandas/core/ops.py\u001b[0m in \u001b[0;36mwrapper\u001b[0;34m(left, right)\u001b[0m\n\u001b[1;32m   1581\u001b[0m             \u001b[0mrvalues\u001b[0m \u001b[0;34m=\u001b[0m \u001b[0mrvalues\u001b[0m\u001b[0;34m.\u001b[0m\u001b[0mvalues\u001b[0m\u001b[0;34m\u001b[0m\u001b[0;34m\u001b[0m\u001b[0m\n\u001b[1;32m   1582\u001b[0m \u001b[0;34m\u001b[0m\u001b[0m\n\u001b[0;32m-> 1583\u001b[0;31m         \u001b[0mresult\u001b[0m \u001b[0;34m=\u001b[0m \u001b[0msafe_na_op\u001b[0m\u001b[0;34m(\u001b[0m\u001b[0mlvalues\u001b[0m\u001b[0;34m,\u001b[0m \u001b[0mrvalues\u001b[0m\u001b[0;34m)\u001b[0m\u001b[0;34m\u001b[0m\u001b[0;34m\u001b[0m\u001b[0m\n\u001b[0m\u001b[1;32m   1584\u001b[0m         return construct_result(left, result,\n\u001b[1;32m   1585\u001b[0m                                 index=left.index, name=res_name, dtype=None)\n",
      "\u001b[0;32m/usr/local/lib/python3.6/dist-packages/pandas/core/ops.py\u001b[0m in \u001b[0;36msafe_na_op\u001b[0;34m(lvalues, rvalues)\u001b[0m\n\u001b[1;32m   1531\u001b[0m             \u001b[0;32mif\u001b[0m \u001b[0mis_object_dtype\u001b[0m\u001b[0;34m(\u001b[0m\u001b[0mlvalues\u001b[0m\u001b[0;34m)\u001b[0m\u001b[0;34m:\u001b[0m\u001b[0;34m\u001b[0m\u001b[0;34m\u001b[0m\u001b[0m\n\u001b[1;32m   1532\u001b[0m                 return libalgos.arrmap_object(lvalues,\n\u001b[0;32m-> 1533\u001b[0;31m                                               lambda x: op(x, rvalues))\n\u001b[0m\u001b[1;32m   1534\u001b[0m             \u001b[0;32mraise\u001b[0m\u001b[0;34m\u001b[0m\u001b[0;34m\u001b[0m\u001b[0m\n\u001b[1;32m   1535\u001b[0m \u001b[0;34m\u001b[0m\u001b[0m\n",
      "\u001b[0;32mpandas/_libs/algos.pyx\u001b[0m in \u001b[0;36mpandas._libs.algos.arrmap\u001b[0;34m()\u001b[0m\n",
      "\u001b[0;32m/usr/local/lib/python3.6/dist-packages/pandas/core/ops.py\u001b[0m in \u001b[0;36m<lambda>\u001b[0;34m(x)\u001b[0m\n\u001b[1;32m   1531\u001b[0m             \u001b[0;32mif\u001b[0m \u001b[0mis_object_dtype\u001b[0m\u001b[0;34m(\u001b[0m\u001b[0mlvalues\u001b[0m\u001b[0;34m)\u001b[0m\u001b[0;34m:\u001b[0m\u001b[0;34m\u001b[0m\u001b[0;34m\u001b[0m\u001b[0m\n\u001b[1;32m   1532\u001b[0m                 return libalgos.arrmap_object(lvalues,\n\u001b[0;32m-> 1533\u001b[0;31m                                               lambda x: op(x, rvalues))\n\u001b[0m\u001b[1;32m   1534\u001b[0m             \u001b[0;32mraise\u001b[0m\u001b[0;34m\u001b[0m\u001b[0;34m\u001b[0m\u001b[0m\n\u001b[1;32m   1535\u001b[0m \u001b[0;34m\u001b[0m\u001b[0m\n",
      "\u001b[0;31mTypeError\u001b[0m: unsupported operand type(s) for -: 'str' and 'str'"
     ]
    }
   ],
   "source": [
    "X = df.drop(['total_amount','ID','pickup_time','drop_time' ], axis=1)\n",
    "z =df['drop_time'] - df['pickup_time']\n",
    "X['travel_time'] = [z1.total_seconds() for z1 in z]\n",
    "y = df['total_amount']\n",
    "X_train, X_other, y_train, y_other = train_test_split(X, y, test_size=0.4, random_state=42)\n",
    "X_cv, X_test, y_cv, y_test = train_test_split(X_other, y_other, test_size=0.5, random_state=42)\n",
    "\n",
    "\n",
    "\n",
    "print(\"Train dataset size: \", X_train.shape[0])\n",
    "print(\"CV size: \", X_cv.shape[0])\n",
    "print(\"Test size: \", X_test.shape[0])\n",
    "X.head()"
   ]
  },
  {
   "cell_type": "code",
   "execution_count": 0,
   "metadata": {
    "colab": {
     "base_uri": "https://localhost:8080/",
     "height": 156
    },
    "colab_type": "code",
    "id": "FHT_HrR5mL4E",
    "outputId": "fa848126-e614-4c06-a822-19b77ef95b81"
   },
   "outputs": [
    {
     "name": "stdout",
     "output_type": "stream",
     "text": [
      "----Training Data results----\n",
      "RMSE: $7.5\n",
      "R2: 0.77\n",
      "\n",
      "----Test Data results----\n",
      "RMSE: $4.1\n",
      "R2: 0.92\n",
      "\n"
     ]
    }
   ],
   "source": [
    "from sklearn.linear_model import LinearRegression\n",
    "\n",
    "\n",
    "lm = LinearRegression().fit(X_train,y_train)\n",
    "model_results(X_train, y_train, X_test, y_test, lm)"
   ]
  },
  {
   "cell_type": "code",
   "execution_count": 5,
   "metadata": {
    "colab": {
     "base_uri": "https://localhost:8080/",
     "height": 615
    },
    "colab_type": "code",
    "id": "k9og_N3EGN2P",
    "outputId": "00261310-f5da-4961-f3dd-a4515fb80842"
   },
   "outputs": [
    {
     "data": {
      "image/png": "[encoded data removed]",
      "text/plain": [
       "<Figure size 432x288 with 1 Axes>"
      ]
     },
     "metadata": {
      "tags": []
     },
     "output_type": "display_data"
    },
    {
     "data": {
      "text/plain": [
       "<Figure size 1440x720 with 0 Axes>"
      ]
     },
     "metadata": {
      "tags": []
     },
     "output_type": "display_data"
    },
    {
     "data": {
      "text/html": [
       "<div>\n",
       "<style scoped>\n",
       "    .dataframe tbody tr th:only-of-type {\n",
       "        vertical-align: middle;\n",
       "    }\n",
       "\n",
       "    .dataframe tbody tr th {\n",
       "        vertical-align: top;\n",
       "    }\n",
       "\n",
       "    .dataframe thead th {\n",
       "        text-align: right;\n",
       "    }\n",
       "</style>\n",
       "<table border=\"1\" class=\"dataframe\">\n",
       "  <thead>\n",
       "    <tr style=\"text-align: right;\">\n",
       "      <th></th>\n",
       "      <th>ID</th>\n",
       "      <th>vendor_id</th>\n",
       "      <th>pickup_loc</th>\n",
       "      <th>drop_loc</th>\n",
       "      <th>driver_tip</th>\n",
       "      <th>mta_tax</th>\n",
       "      <th>distance</th>\n",
       "      <th>num_passengers</th>\n",
       "      <th>toll_amount</th>\n",
       "      <th>payment_method</th>\n",
       "      <th>rate_code</th>\n",
       "      <th>stored_flag</th>\n",
       "      <th>extra_charges</th>\n",
       "      <th>improvement_charge</th>\n",
       "      <th>total_amount</th>\n",
       "    </tr>\n",
       "  </thead>\n",
       "  <tbody>\n",
       "    <tr>\n",
       "      <th>count</th>\n",
       "      <td>1048573.000</td>\n",
       "      <td>1048573.000</td>\n",
       "      <td>1048573.000</td>\n",
       "      <td>1048573.000</td>\n",
       "      <td>1048573.000</td>\n",
       "      <td>1048573.000</td>\n",
       "      <td>1048573.000</td>\n",
       "      <td>1048573.000</td>\n",
       "      <td>1048573.000</td>\n",
       "      <td>1048573.000</td>\n",
       "      <td>1048573.000</td>\n",
       "      <td>1048573.000</td>\n",
       "      <td>1048573.000</td>\n",
       "      <td>1048573.000</td>\n",
       "      <td>1048573.000</td>\n",
       "    </tr>\n",
       "    <tr>\n",
       "      <th>mean</th>\n",
       "      <td>524287.352</td>\n",
       "      <td>0.300</td>\n",
       "      <td>164.808</td>\n",
       "      <td>162.668</td>\n",
       "      <td>1.895</td>\n",
       "      <td>0.497</td>\n",
       "      <td>2.860</td>\n",
       "      <td>1.591</td>\n",
       "      <td>0.346</td>\n",
       "      <td>1.318</td>\n",
       "      <td>1.043</td>\n",
       "      <td>0.007</td>\n",
       "      <td>0.341</td>\n",
       "      <td>0.300</td>\n",
       "      <td>16.218</td>\n",
       "    </tr>\n",
       "    <tr>\n",
       "      <th>std</th>\n",
       "      <td>302697.642</td>\n",
       "      <td>0.014</td>\n",
       "      <td>65.793</td>\n",
       "      <td>69.531</td>\n",
       "      <td>2.654</td>\n",
       "      <td>0.042</td>\n",
       "      <td>3.710</td>\n",
       "      <td>1.254</td>\n",
       "      <td>2.138</td>\n",
       "      <td>0.485</td>\n",
       "      <td>0.562</td>\n",
       "      <td>0.082</td>\n",
       "      <td>0.484</td>\n",
       "      <td>0.014</td>\n",
       "      <td>15.096</td>\n",
       "    </tr>\n",
       "    <tr>\n",
       "      <th>min</th>\n",
       "      <td>0.000</td>\n",
       "      <td>-0.300</td>\n",
       "      <td>1.000</td>\n",
       "      <td>1.000</td>\n",
       "      <td>-10.090</td>\n",
       "      <td>-0.500</td>\n",
       "      <td>0.000</td>\n",
       "      <td>0.000</td>\n",
       "      <td>-5.760</td>\n",
       "      <td>1.000</td>\n",
       "      <td>1.000</td>\n",
       "      <td>0.000</td>\n",
       "      <td>-4.500</td>\n",
       "      <td>-0.300</td>\n",
       "      <td>-260.800</td>\n",
       "    </tr>\n",
       "    <tr>\n",
       "      <th>25%</th>\n",
       "      <td>262144.000</td>\n",
       "      <td>0.300</td>\n",
       "      <td>125.000</td>\n",
       "      <td>113.000</td>\n",
       "      <td>0.000</td>\n",
       "      <td>0.500</td>\n",
       "      <td>0.930</td>\n",
       "      <td>1.000</td>\n",
       "      <td>0.000</td>\n",
       "      <td>1.000</td>\n",
       "      <td>1.000</td>\n",
       "      <td>0.000</td>\n",
       "      <td>0.000</td>\n",
       "      <td>0.300</td>\n",
       "      <td>8.500</td>\n",
       "    </tr>\n",
       "    <tr>\n",
       "      <th>50%</th>\n",
       "      <td>524287.000</td>\n",
       "      <td>0.300</td>\n",
       "      <td>162.000</td>\n",
       "      <td>162.000</td>\n",
       "      <td>1.450</td>\n",
       "      <td>0.500</td>\n",
       "      <td>1.600</td>\n",
       "      <td>1.000</td>\n",
       "      <td>0.000</td>\n",
       "      <td>1.000</td>\n",
       "      <td>1.000</td>\n",
       "      <td>0.000</td>\n",
       "      <td>0.000</td>\n",
       "      <td>0.300</td>\n",
       "      <td>11.760</td>\n",
       "    </tr>\n",
       "    <tr>\n",
       "      <th>75%</th>\n",
       "      <td>786431.000</td>\n",
       "      <td>0.300</td>\n",
       "      <td>233.000</td>\n",
       "      <td>233.000</td>\n",
       "      <td>2.450</td>\n",
       "      <td>0.500</td>\n",
       "      <td>2.900</td>\n",
       "      <td>2.000</td>\n",
       "      <td>0.000</td>\n",
       "      <td>2.000</td>\n",
       "      <td>1.000</td>\n",
       "      <td>0.000</td>\n",
       "      <td>0.500</td>\n",
       "      <td>0.300</td>\n",
       "      <td>17.750</td>\n",
       "    </tr>\n",
       "    <tr>\n",
       "      <th>max</th>\n",
       "      <td>1048574.000</td>\n",
       "      <td>0.300</td>\n",
       "      <td>265.000</td>\n",
       "      <td>265.000</td>\n",
       "      <td>400.000</td>\n",
       "      <td>0.500</td>\n",
       "      <td>113.800</td>\n",
       "      <td>9.000</td>\n",
       "      <td>905.760</td>\n",
       "      <td>4.000</td>\n",
       "      <td>99.000</td>\n",
       "      <td>1.000</td>\n",
       "      <td>6.500</td>\n",
       "      <td>0.300</td>\n",
       "      <td>2759.370</td>\n",
       "    </tr>\n",
       "  </tbody>\n",
       "</table>\n",
       "</div>"
      ],
      "text/plain": [
       "               ID   vendor_id  ...  improvement_charge  total_amount\n",
       "count 1048573.000 1048573.000  ...         1048573.000   1048573.000\n",
       "mean   524287.352       0.300  ...               0.300        16.218\n",
       "std    302697.642       0.014  ...               0.014        15.096\n",
       "min         0.000      -0.300  ...              -0.300      -260.800\n",
       "25%    262144.000       0.300  ...               0.300         8.500\n",
       "50%    524287.000       0.300  ...               0.300        11.760\n",
       "75%    786431.000       0.300  ...               0.300        17.750\n",
       "max   1048574.000       0.300  ...               0.300      2759.370\n",
       "\n",
       "[8 rows x 15 columns]"
      ]
     },
     "execution_count": 5,
     "metadata": {
      "tags": []
     },
     "output_type": "execute_result"
    }
   ],
   "source": [
    "def plot_scatter(x,y,label,x_label,y_label):\n",
    "  plt.scatter(x, y, c=\"g\", alpha=0.5, label=label)\n",
    "  plt.xlabel(x_label)\n",
    "  plt.ylabel(y_label)\n",
    "  plt.legend(loc='upper right')\n",
    "  plt.title(label)\n",
    "  # plt.xticks(np.arange(0, 1, step=0.2))\n",
    "  plt.figure(figsize=(20,10))\n",
    "  plt.show()\n",
    "plot_scatter(df['distance'][:100000],df['total_amount'][:100000],\"distance vs. total_amount\",\"distance\",\"total_amount\")\n",
    "df.describe()"
   ]
  },
  {
   "cell_type": "code",
   "execution_count": 6,
   "metadata": {
    "colab": {
     "base_uri": "https://localhost:8080/",
     "height": 121
    },
    "colab_type": "code",
    "id": "jetxmB__xaoS",
    "outputId": "376e05b4-ac90-4eed-cc57-03211189edad"
   },
   "outputs": [
    {
     "name": "stdout",
     "output_type": "stream",
     "text": [
      "There are 521 negative entries of total_amount.\n",
      "There are 203 0 entries of total_amount.\n",
      "There are 9 entries of total_amount greater than 600.\n",
      "There are 521 negative entries of vendor_id.\n",
      "There are 12 negative entries of driver_tip.\n",
      "There are 505 negative entries of mta_tax.\n"
     ]
    }
   ],
   "source": [
    "print(f\"There are {len(df[df['total_amount'] < 0])} negative entries of total_amount.\")\n",
    "print(f\"There are {len(df[df['total_amount'] == 0])} 0 entries of total_amount.\")\n",
    "print(f\"There are {len(df[df['total_amount'] > 600])} entries of total_amount greater than 600.\")\n",
    "print(f\"There are {len(df[df['vendor_id'] < 0])} negative entries of vendor_id.\")\n",
    "print(f\"There are {len(df[df['driver_tip'] < 0])} negative entries of driver_tip.\")\n",
    "print(f\"There are {len(df[df['mta_tax'] < 0])} negative entries of mta_tax.\")"
   ]
  },
  {
   "cell_type": "markdown",
   "metadata": {
    "colab_type": "text",
    "id": "E503aqs0vLHf"
   },
   "source": [
    "## *The above plot along with values from describe show that there are outlier and meaningless points which are very less in number..*\n",
    "\n",
    "\n",
    "\n",
    "*   Neglecting negative values from amounts (removing outliers of total_amount corrects other attributes)\n",
    "*   Assuming 600 to be the upper cap of fare\n",
    "*   \n",
    "\n"
   ]
  },
  {
   "cell_type": "code",
   "execution_count": 6,
   "metadata": {
    "colab": {
     "base_uri": "https://localhost:8080/",
     "height": 320
    },
    "colab_type": "code",
    "id": "Hc4uJKVWyI2K",
    "outputId": "b6d5acb1-f064-42e0-806e-de48480d07dd"
   },
   "outputs": [
    {
     "data": {
      "text/html": [
       "<div>\n",
       "<style scoped>\n",
       "    .dataframe tbody tr th:only-of-type {\n",
       "        vertical-align: middle;\n",
       "    }\n",
       "\n",
       "    .dataframe tbody tr th {\n",
       "        vertical-align: top;\n",
       "    }\n",
       "\n",
       "    .dataframe thead th {\n",
       "        text-align: right;\n",
       "    }\n",
       "</style>\n",
       "<table border=\"1\" class=\"dataframe\">\n",
       "  <thead>\n",
       "    <tr style=\"text-align: right;\">\n",
       "      <th></th>\n",
       "      <th>ID</th>\n",
       "      <th>vendor_id</th>\n",
       "      <th>pickup_loc</th>\n",
       "      <th>drop_loc</th>\n",
       "      <th>driver_tip</th>\n",
       "      <th>mta_tax</th>\n",
       "      <th>distance</th>\n",
       "      <th>num_passengers</th>\n",
       "      <th>toll_amount</th>\n",
       "      <th>payment_method</th>\n",
       "      <th>rate_code</th>\n",
       "      <th>stored_flag</th>\n",
       "      <th>extra_charges</th>\n",
       "      <th>improvement_charge</th>\n",
       "      <th>total_amount</th>\n",
       "    </tr>\n",
       "  </thead>\n",
       "  <tbody>\n",
       "    <tr>\n",
       "      <th>count</th>\n",
       "      <td>1047838.000</td>\n",
       "      <td>1047838.000</td>\n",
       "      <td>1047838.000</td>\n",
       "      <td>1047838.000</td>\n",
       "      <td>1047838.000</td>\n",
       "      <td>1047838.000</td>\n",
       "      <td>1047838.000</td>\n",
       "      <td>1047838.000</td>\n",
       "      <td>1047838.000</td>\n",
       "      <td>1047838.000</td>\n",
       "      <td>1047838.000</td>\n",
       "      <td>1047838.000</td>\n",
       "      <td>1047838.000</td>\n",
       "      <td>1047838.000</td>\n",
       "      <td>1047838.000</td>\n",
       "    </tr>\n",
       "    <tr>\n",
       "      <th>mean</th>\n",
       "      <td>524269.735</td>\n",
       "      <td>0.300</td>\n",
       "      <td>164.806</td>\n",
       "      <td>162.662</td>\n",
       "      <td>1.897</td>\n",
       "      <td>0.498</td>\n",
       "      <td>2.862</td>\n",
       "      <td>1.591</td>\n",
       "      <td>0.344</td>\n",
       "      <td>1.317</td>\n",
       "      <td>1.043</td>\n",
       "      <td>0.007</td>\n",
       "      <td>0.342</td>\n",
       "      <td>0.300</td>\n",
       "      <td>16.222</td>\n",
       "    </tr>\n",
       "    <tr>\n",
       "      <th>std</th>\n",
       "      <td>302686.492</td>\n",
       "      <td>0.003</td>\n",
       "      <td>65.790</td>\n",
       "      <td>69.531</td>\n",
       "      <td>2.654</td>\n",
       "      <td>0.035</td>\n",
       "      <td>3.710</td>\n",
       "      <td>1.254</td>\n",
       "      <td>1.709</td>\n",
       "      <td>0.483</td>\n",
       "      <td>0.510</td>\n",
       "      <td>0.082</td>\n",
       "      <td>0.484</td>\n",
       "      <td>0.003</td>\n",
       "      <td>14.225</td>\n",
       "    </tr>\n",
       "    <tr>\n",
       "      <th>min</th>\n",
       "      <td>0.000</td>\n",
       "      <td>0.000</td>\n",
       "      <td>1.000</td>\n",
       "      <td>1.000</td>\n",
       "      <td>0.000</td>\n",
       "      <td>0.000</td>\n",
       "      <td>0.000</td>\n",
       "      <td>0.000</td>\n",
       "      <td>0.000</td>\n",
       "      <td>1.000</td>\n",
       "      <td>1.000</td>\n",
       "      <td>0.000</td>\n",
       "      <td>0.000</td>\n",
       "      <td>0.000</td>\n",
       "      <td>0.300</td>\n",
       "    </tr>\n",
       "    <tr>\n",
       "      <th>25%</th>\n",
       "      <td>262140.250</td>\n",
       "      <td>0.300</td>\n",
       "      <td>125.000</td>\n",
       "      <td>113.000</td>\n",
       "      <td>0.000</td>\n",
       "      <td>0.500</td>\n",
       "      <td>0.930</td>\n",
       "      <td>1.000</td>\n",
       "      <td>0.000</td>\n",
       "      <td>1.000</td>\n",
       "      <td>1.000</td>\n",
       "      <td>0.000</td>\n",
       "      <td>0.000</td>\n",
       "      <td>0.300</td>\n",
       "      <td>8.500</td>\n",
       "    </tr>\n",
       "    <tr>\n",
       "      <th>50%</th>\n",
       "      <td>524262.500</td>\n",
       "      <td>0.300</td>\n",
       "      <td>162.000</td>\n",
       "      <td>162.000</td>\n",
       "      <td>1.450</td>\n",
       "      <td>0.500</td>\n",
       "      <td>1.600</td>\n",
       "      <td>1.000</td>\n",
       "      <td>0.000</td>\n",
       "      <td>1.000</td>\n",
       "      <td>1.000</td>\n",
       "      <td>0.000</td>\n",
       "      <td>0.000</td>\n",
       "      <td>0.300</td>\n",
       "      <td>11.760</td>\n",
       "    </tr>\n",
       "    <tr>\n",
       "      <th>75%</th>\n",
       "      <td>786393.750</td>\n",
       "      <td>0.300</td>\n",
       "      <td>233.000</td>\n",
       "      <td>233.000</td>\n",
       "      <td>2.450</td>\n",
       "      <td>0.500</td>\n",
       "      <td>2.900</td>\n",
       "      <td>2.000</td>\n",
       "      <td>0.000</td>\n",
       "      <td>2.000</td>\n",
       "      <td>1.000</td>\n",
       "      <td>0.000</td>\n",
       "      <td>0.500</td>\n",
       "      <td>0.300</td>\n",
       "      <td>17.750</td>\n",
       "    </tr>\n",
       "    <tr>\n",
       "      <th>max</th>\n",
       "      <td>1048574.000</td>\n",
       "      <td>0.300</td>\n",
       "      <td>265.000</td>\n",
       "      <td>265.000</td>\n",
       "      <td>400.000</td>\n",
       "      <td>0.500</td>\n",
       "      <td>113.800</td>\n",
       "      <td>9.000</td>\n",
       "      <td>571.320</td>\n",
       "      <td>4.000</td>\n",
       "      <td>99.000</td>\n",
       "      <td>1.000</td>\n",
       "      <td>6.500</td>\n",
       "      <td>0.300</td>\n",
       "      <td>598.120</td>\n",
       "    </tr>\n",
       "  </tbody>\n",
       "</table>\n",
       "</div>"
      ],
      "text/plain": [
       "               ID   vendor_id  ...  improvement_charge  total_amount\n",
       "count 1047838.000 1047838.000  ...         1047838.000   1047838.000\n",
       "mean   524269.735       0.300  ...               0.300        16.222\n",
       "std    302686.492       0.003  ...               0.003        14.225\n",
       "min         0.000       0.000  ...               0.000         0.300\n",
       "25%    262140.250       0.300  ...               0.300         8.500\n",
       "50%    524262.500       0.300  ...               0.300        11.760\n",
       "75%    786393.750       0.300  ...               0.300        17.750\n",
       "max   1048574.000       0.300  ...               0.300       598.120\n",
       "\n",
       "[8 rows x 15 columns]"
      ]
     },
     "execution_count": 6,
     "metadata": {
      "tags": []
     },
     "output_type": "execute_result"
    }
   ],
   "source": [
    "df=df[df['total_amount'].between(left=0.1,right=600)]\n",
    "# df=df[df['vendor_id']>=0]\n",
    "# df=df[df['toll_amount']>=0]\n",
    "# df=df[df['mta_tax']>=0]\n",
    "# df=df[df['driver_tip']>=0]\n",
    "# df=df[df['improvement_charge']>=0]\n",
    "# df=df[df['extra_charges']>=0]\n",
    "df.describe()"
   ]
  },
  {
   "cell_type": "code",
   "execution_count": 73,
   "metadata": {
    "colab": {
     "base_uri": "https://localhost:8080/",
     "height": 1000
    },
    "colab_type": "code",
    "id": "I0frONAH-vFx",
    "outputId": "9ceb7236-dbab-4d04-a467-5db1a4d0b47f"
   },
   "outputs": [
    {
     "data": {
      "image/png": "[encoded data removed]",
      "text/plain": [
       "<Figure size 432x288 with 1 Axes>"
      ]
     },
     "metadata": {
      "tags": []
     },
     "output_type": "display_data"
    },
    {
     "data": {
      "text/plain": [
       "<Figure size 1440x720 with 0 Axes>"
      ]
     },
     "metadata": {
      "tags": []
     },
     "output_type": "display_data"
    },
    {
     "data": {
      "image/png": "[encoded data removed]",
      "text/plain": [
       "<Figure size 432x288 with 1 Axes>"
      ]
     },
     "metadata": {
      "tags": []
     },
     "output_type": "display_data"
    },
    {
     "data": {
      "text/plain": [
       "<Figure size 1440x720 with 0 Axes>"
      ]
     },
     "metadata": {
      "tags": []
     },
     "output_type": "display_data"
    },
    {
     "data": {
      "image/png": "[encoded data removed]",
      "text/plain": [
       "<Figure size 432x288 with 1 Axes>"
      ]
     },
     "metadata": {
      "tags": []
     },
     "output_type": "display_data"
    },
    {
     "data": {
      "text/plain": [
       "<Figure size 1440x720 with 0 Axes>"
      ]
     },
     "metadata": {
      "tags": []
     },
     "output_type": "display_data"
    },
    {
     "data": {
      "image/png": "[encoded data removed]",
      "text/plain": [
       "<Figure size 432x288 with 1 Axes>"
      ]
     },
     "metadata": {
      "tags": []
     },
     "output_type": "display_data"
    },
    {
     "data": {
      "text/plain": [
       "<Figure size 1440x720 with 0 Axes>"
      ]
     },
     "metadata": {
      "tags": []
     },
     "output_type": "display_data"
    },
    {
     "data": {
      "image/png": "[encoded data removed]",
      "text/plain": [
       "<Figure size 432x288 with 1 Axes>"
      ]
     },
     "metadata": {
      "tags": []
     },
     "output_type": "display_data"
    },
    {
     "data": {
      "text/plain": [
       "<Figure size 1440x720 with 0 Axes>"
      ]
     },
     "metadata": {
      "tags": []
     },
     "output_type": "display_data"
    },
    {
     "data": {
      "image/png": "[encoded data removed]",
      "text/plain": [
       "<Figure size 432x288 with 1 Axes>"
      ]
     },
     "metadata": {
      "tags": []
     },
     "output_type": "display_data"
    },
    {
     "data": {
      "text/plain": [
       "<Figure size 1440x720 with 0 Axes>"
      ]
     },
     "metadata": {
      "tags": []
     },
     "output_type": "display_data"
    },
    {
     "data": {
      "image/png": "[encoded data removed]",
      "text/plain": [
       "<Figure size 432x288 with 1 Axes>"
      ]
     },
     "metadata": {
      "tags": []
     },
     "output_type": "display_data"
    },
    {
     "data": {
      "text/plain": [
       "<Figure size 1440x720 with 0 Axes>"
      ]
     },
     "metadata": {
      "tags": []
     },
     "output_type": "display_data"
    },
    {
     "data": {
      "image/png": "[encoded data removed]",
      "text/plain": [
       "<Figure size 432x288 with 1 Axes>"
      ]
     },
     "metadata": {
      "tags": []
     },
     "output_type": "display_data"
    },
    {
     "data": {
      "text/plain": [
       "<Figure size 1440x720 with 0 Axes>"
      ]
     },
     "metadata": {
      "tags": []
     },
     "output_type": "display_data"
    },
    {
     "data": {
      "image/png": "[encoded data removed]",
      "text/plain": [
       "<Figure size 432x288 with 1 Axes>"
      ]
     },
     "metadata": {
      "tags": []
     },
     "output_type": "display_data"
    },
    {
     "data": {
      "text/plain": [
       "<Figure size 1440x720 with 0 Axes>"
      ]
     },
     "metadata": {
      "tags": []
     },
     "output_type": "display_data"
    },
    {
     "data": {
      "image/png": "[encoded data removed]",
      "text/plain": [
       "<Figure size 432x288 with 1 Axes>"
      ]
     },
     "metadata": {
      "tags": []
     },
     "output_type": "display_data"
    },
    {
     "data": {
      "text/plain": [
       "<Figure size 1440x720 with 0 Axes>"
      ]
     },
     "metadata": {
      "tags": []
     },
     "output_type": "display_data"
    },
    {
     "data": {
      "image/png": "[encoded data removed]",
      "text/plain": [
       "<Figure size 432x288 with 1 Axes>"
      ]
     },
     "metadata": {
      "tags": []
     },
     "output_type": "display_data"
    },
    {
     "data": {
      "text/plain": [
       "<Figure size 1440x720 with 0 Axes>"
      ]
     },
     "metadata": {
      "tags": []
     },
     "output_type": "display_data"
    },
    {
     "data": {
      "image/png": "[encoded data removed]",
      "text/plain": [
       "<Figure size 432x288 with 1 Axes>"
      ]
     },
     "metadata": {
      "tags": []
     },
     "output_type": "display_data"
    },
    {
     "data": {
      "text/plain": [
       "<Figure size 1440x720 with 0 Axes>"
      ]
     },
     "metadata": {
      "tags": []
     },
     "output_type": "display_data"
    },
    {
     "data": {
      "image/png": "[encoded data removed]",
      "text/plain": [
       "<Figure size 432x288 with 1 Axes>"
      ]
     },
     "metadata": {
      "tags": []
     },
     "output_type": "display_data"
    },
    {
     "data": {
      "text/plain": [
       "<Figure size 1440x720 with 0 Axes>"
      ]
     },
     "metadata": {
      "tags": []
     },
     "output_type": "display_data"
    },
    {
     "data": {
      "image/png": "[encoded data removed]",
      "text/plain": [
       "<Figure size 432x288 with 1 Axes>"
      ]
     },
     "metadata": {
      "tags": []
     },
     "output_type": "display_data"
    },
    {
     "data": {
      "text/plain": [
       "<Figure size 1440x720 with 0 Axes>"
      ]
     },
     "metadata": {
      "tags": []
     },
     "output_type": "display_data"
    },
    {
     "data": {
      "image/png": "[encoded data removed]",
      "text/plain": [
       "<Figure size 432x288 with 1 Axes>"
      ]
     },
     "metadata": {
      "tags": []
     },
     "output_type": "display_data"
    },
    {
     "data": {
      "text/plain": [
       "<Figure size 1440x720 with 0 Axes>"
      ]
     },
     "metadata": {
      "tags": []
     },
     "output_type": "display_data"
    }
   ],
   "source": [
    "cols = list(df.columns)\n",
    "cols.remove('pickup_time')\n",
    "cols.remove('drop_time')\n",
    "cols\n",
    "\n",
    "\n",
    "# cols = ['vendor_id', 'driver_tip', 'mta_tax', 'payment_method', 'stored_flag']\n",
    "\n",
    "for x in cols:\n",
    "  plot_scatter(df[x][:100000],df['total_amount'][:100000],x+\" vs. total_amount\",x,\"total_amount\")\n",
    "\n",
    "# plot_scatter(df['vendor_id'][:100000],df['total_amount'][:100000],\"driver_tip vs. total_amount\",\"\",\"total_amount\")\n",
    "# plot_scatter(df['vendor_id'][:100000],df['total_amount'][:100000],\"driver_tip vs. total_amount\",\"driver_tip\",\"total_amount\")\n",
    "# plot_scatter(df[''][:100000],df['total_amount'][:100000],\"driver_tip vs. total_amount\",\"driver_tip\",\"total_amount\")"
   ]
  },
  {
   "cell_type": "code",
   "execution_count": 95,
   "metadata": {
    "colab": {
     "base_uri": "https://localhost:8080/",
     "height": 417
    },
    "colab_type": "code",
    "id": "2R8vDILHenSx",
    "outputId": "a0ca4589-a486-4ba2-a16f-049140a27008"
   },
   "outputs": [
    {
     "name": "stderr",
     "output_type": "stream",
     "text": [
      "/usr/local/lib/python3.6/dist-packages/ipykernel_launcher.py:1: SettingWithCopyWarning: \n",
      "A value is trying to be set on a copy of a slice from a DataFrame.\n",
      "Try using .loc[row_indexer,col_indexer] = value instead\n",
      "\n",
      "See the caveats in the documentation: http://pandas.pydata.org/pandas-docs/stable/indexing.html#indexing-view-versus-copy\n",
      "  \"\"\"Entry point for launching an IPython kernel.\n"
     ]
    },
    {
     "data": {
      "text/html": [
       "<div>\n",
       "<style scoped>\n",
       "    .dataframe tbody tr th:only-of-type {\n",
       "        vertical-align: middle;\n",
       "    }\n",
       "\n",
       "    .dataframe tbody tr th {\n",
       "        vertical-align: top;\n",
       "    }\n",
       "\n",
       "    .dataframe thead th {\n",
       "        text-align: right;\n",
       "    }\n",
       "</style>\n",
       "<table border=\"1\" class=\"dataframe\">\n",
       "  <thead>\n",
       "    <tr style=\"text-align: right;\">\n",
       "      <th></th>\n",
       "      <th>ID</th>\n",
       "      <th>vendor_id</th>\n",
       "      <th>pickup_loc</th>\n",
       "      <th>drop_loc</th>\n",
       "      <th>driver_tip</th>\n",
       "      <th>mta_tax</th>\n",
       "      <th>distance</th>\n",
       "      <th>pickup_time</th>\n",
       "      <th>drop_time</th>\n",
       "      <th>num_passengers</th>\n",
       "      <th>toll_amount</th>\n",
       "      <th>payment_method</th>\n",
       "      <th>rate_code</th>\n",
       "      <th>stored_flag</th>\n",
       "      <th>extra_charges</th>\n",
       "      <th>improvement_charge</th>\n",
       "      <th>total_amount</th>\n",
       "      <th>hour</th>\n",
       "      <th>day_of_week</th>\n",
       "      <th>travel_time</th>\n",
       "    </tr>\n",
       "  </thead>\n",
       "  <tbody>\n",
       "    <tr>\n",
       "      <th>0</th>\n",
       "      <td>0</td>\n",
       "      <td>0.300</td>\n",
       "      <td>170</td>\n",
       "      <td>233.000</td>\n",
       "      <td>1.830</td>\n",
       "      <td>0.500</td>\n",
       "      <td>0.700</td>\n",
       "      <td>2017-04-04 17:59:43</td>\n",
       "      <td>2017-04-04 18:05:04</td>\n",
       "      <td>1.000</td>\n",
       "      <td>0.000</td>\n",
       "      <td>1.000</td>\n",
       "      <td>1.000</td>\n",
       "      <td>0</td>\n",
       "      <td>1.000</td>\n",
       "      <td>0.300</td>\n",
       "      <td>9.130</td>\n",
       "      <td>17</td>\n",
       "      <td>1</td>\n",
       "      <td>321.000</td>\n",
       "    </tr>\n",
       "    <tr>\n",
       "      <th>1</th>\n",
       "      <td>1</td>\n",
       "      <td>0.300</td>\n",
       "      <td>151</td>\n",
       "      <td>243.000</td>\n",
       "      <td>3.560</td>\n",
       "      <td>0.500</td>\n",
       "      <td>4.640</td>\n",
       "      <td>2017-04-03 19:03:34</td>\n",
       "      <td>2017-04-03 19:20:04</td>\n",
       "      <td>1.000</td>\n",
       "      <td>0.000</td>\n",
       "      <td>1.000</td>\n",
       "      <td>1.000</td>\n",
       "      <td>0</td>\n",
       "      <td>1.000</td>\n",
       "      <td>0.300</td>\n",
       "      <td>21.360</td>\n",
       "      <td>19</td>\n",
       "      <td>0</td>\n",
       "      <td>990.000</td>\n",
       "    </tr>\n",
       "    <tr>\n",
       "      <th>2</th>\n",
       "      <td>2</td>\n",
       "      <td>0.300</td>\n",
       "      <td>68</td>\n",
       "      <td>90.000</td>\n",
       "      <td>1.500</td>\n",
       "      <td>0.500</td>\n",
       "      <td>1.290</td>\n",
       "      <td>2017-04-03 15:06:13</td>\n",
       "      <td>2017-04-03 15:12:30</td>\n",
       "      <td>2.000</td>\n",
       "      <td>0.000</td>\n",
       "      <td>1.000</td>\n",
       "      <td>1.000</td>\n",
       "      <td>0</td>\n",
       "      <td>0.000</td>\n",
       "      <td>0.300</td>\n",
       "      <td>8.800</td>\n",
       "      <td>15</td>\n",
       "      <td>0</td>\n",
       "      <td>377.000</td>\n",
       "    </tr>\n",
       "    <tr>\n",
       "      <th>3</th>\n",
       "      <td>3</td>\n",
       "      <td>0.300</td>\n",
       "      <td>142</td>\n",
       "      <td>234.000</td>\n",
       "      <td>1.500</td>\n",
       "      <td>0.500</td>\n",
       "      <td>2.740</td>\n",
       "      <td>2017-04-04 08:10:52</td>\n",
       "      <td>2017-04-04 08:27:00</td>\n",
       "      <td>1.000</td>\n",
       "      <td>0.000</td>\n",
       "      <td>1.000</td>\n",
       "      <td>1.000</td>\n",
       "      <td>0</td>\n",
       "      <td>0.000</td>\n",
       "      <td>0.300</td>\n",
       "      <td>14.800</td>\n",
       "      <td>8</td>\n",
       "      <td>1</td>\n",
       "      <td>968.000</td>\n",
       "    </tr>\n",
       "    <tr>\n",
       "      <th>4</th>\n",
       "      <td>4</td>\n",
       "      <td>0.300</td>\n",
       "      <td>238</td>\n",
       "      <td>238.000</td>\n",
       "      <td>0.000</td>\n",
       "      <td>0.500</td>\n",
       "      <td>0.450</td>\n",
       "      <td>2017-04-05 14:02:59</td>\n",
       "      <td>2017-04-05 14:05:41</td>\n",
       "      <td>6.000</td>\n",
       "      <td>0.000</td>\n",
       "      <td>2.000</td>\n",
       "      <td>1.000</td>\n",
       "      <td>0</td>\n",
       "      <td>0.000</td>\n",
       "      <td>0.300</td>\n",
       "      <td>4.800</td>\n",
       "      <td>14</td>\n",
       "      <td>2</td>\n",
       "      <td>162.000</td>\n",
       "    </tr>\n",
       "  </tbody>\n",
       "</table>\n",
       "</div>"
      ],
      "text/plain": [
       "   ID  vendor_id  pickup_loc  ...  hour  day_of_week  travel_time\n",
       "0   0      0.300         170  ...    17            1      321.000\n",
       "1   1      0.300         151  ...    19            0      990.000\n",
       "2   2      0.300          68  ...    15            0      377.000\n",
       "3   3      0.300         142  ...     8            1      968.000\n",
       "4   4      0.300         238  ...    14            2      162.000\n",
       "\n",
       "[5 rows x 20 columns]"
      ]
     },
     "execution_count": 95,
     "metadata": {
      "tags": []
     },
     "output_type": "execute_result"
    }
   ],
   "source": [
    "df['travel_time'] = [ z.total_seconds() for z in (df['drop_time'] - df['pickup_time'])]\n",
    "df.head()"
   ]
  },
  {
   "cell_type": "code",
   "execution_count": 77,
   "metadata": {
    "colab": {
     "base_uri": "https://localhost:8080/",
     "height": 191
    },
    "colab_type": "code",
    "id": "YGmyanXeemBj",
    "outputId": "186296c5-75bb-45d8-d941-001254338922"
   },
   "outputs": [
    {
     "name": "stdout",
     "output_type": "stream",
     "text": [
      "Train dataset size:  838270\n",
      "Test size:  209568\n",
      "----Training Data results----\n",
      "RMSE: $4.4\n",
      "R2: 0.91\n",
      "\n",
      "----Test Data results----\n",
      "RMSE: $4.3\n",
      "R2: 0.91\n",
      "\n"
     ]
    }
   ],
   "source": [
    "X = df.drop(['total_amount','ID','pickup_time','drop_time' ], axis=1)\n",
    "y = df['total_amount']\n",
    "X_train, X_test, y_train, y_test = train_test_split(X, y, test_size=0.2, random_state=42)\n",
    "\n",
    "\n",
    "\n",
    "print(\"Train dataset size: \", X_train.shape[0])\n",
    "print(\"Test size: \", X_test.shape[0])\n",
    "\n",
    "\n",
    "from sklearn.linear_model import LinearRegression\n",
    "\n",
    "lm = LinearRegression().fit(X_train,y_train)\n",
    "model_results(X_train, y_train, X_test, y_test, lm)"
   ]
  },
  {
   "cell_type": "code",
   "execution_count": 7,
   "metadata": {
    "colab": {
     "base_uri": "https://localhost:8080/",
     "height": 121
    },
    "colab_type": "code",
    "id": "riUn13TNmQdc",
    "outputId": "21b56ef9-f4b3-4a60-b7e2-e3c92a45f7c1"
   },
   "outputs": [
    {
     "name": "stderr",
     "output_type": "stream",
     "text": [
      "/usr/local/lib/python3.6/dist-packages/ipykernel_launcher.py:1: SettingWithCopyWarning: \n",
      "A value is trying to be set on a copy of a slice from a DataFrame.\n",
      "Try using .loc[row_indexer,col_indexer] = value instead\n",
      "\n",
      "See the caveats in the documentation: http://pandas.pydata.org/pandas-docs/stable/indexing.html#indexing-view-versus-copy\n",
      "  \"\"\"Entry point for launching an IPython kernel.\n"
     ]
    }
   ],
   "source": [
    "df['pickup_time'] = pd.to_datetime(df['pickup_time'])"
   ]
  },
  {
   "cell_type": "code",
   "execution_count": 76,
   "metadata": {
    "colab": {
     "base_uri": "https://localhost:8080/",
     "height": 364
    },
    "colab_type": "code",
    "id": "8nLkMfUh2hNK",
    "outputId": "7d9cebd7-678e-4d83-eb4a-2b6cbbd71326"
   },
   "outputs": [
    {
     "data": {
      "text/plain": [
       "ID                             int64\n",
       "vendor_id                    float64\n",
       "pickup_loc                     int64\n",
       "drop_loc                     float64\n",
       "driver_tip                   float64\n",
       "mta_tax                      float64\n",
       "distance                     float64\n",
       "pickup_time           datetime64[ns]\n",
       "drop_time                     object\n",
       "num_passengers               float64\n",
       "toll_amount                  float64\n",
       "payment_method               float64\n",
       "rate_code                    float64\n",
       "stored_flag                    int64\n",
       "extra_charges                float64\n",
       "improvement_charge           float64\n",
       "total_amount                 float64\n",
       "day_of_week                    int64\n",
       "hour                           int64\n",
       "dtype: object"
      ]
     },
     "execution_count": 76,
     "metadata": {
      "tags": []
     },
     "output_type": "execute_result"
    }
   ],
   "source": [
    "df.dtypes"
   ]
  },
  {
   "cell_type": "code",
   "execution_count": 8,
   "metadata": {
    "colab": {
     "base_uri": "https://localhost:8080/",
     "height": 608
    },
    "colab_type": "code",
    "id": "uEZfXq7TJA_z",
    "outputId": "1c89a439-fb5a-4fdc-eef6-95597db367c1"
   },
   "outputs": [
    {
     "name": "stderr",
     "output_type": "stream",
     "text": [
      "/usr/local/lib/python3.6/dist-packages/ipykernel_launcher.py:1: SettingWithCopyWarning: \n",
      "A value is trying to be set on a copy of a slice from a DataFrame.\n",
      "Try using .loc[row_indexer,col_indexer] = value instead\n",
      "\n",
      "See the caveats in the documentation: http://pandas.pydata.org/pandas-docs/stable/indexing.html#indexing-view-versus-copy\n",
      "  \"\"\"Entry point for launching an IPython kernel.\n",
      "/usr/local/lib/python3.6/dist-packages/ipykernel_launcher.py:2: SettingWithCopyWarning: \n",
      "A value is trying to be set on a copy of a slice from a DataFrame.\n",
      "Try using .loc[row_indexer,col_indexer] = value instead\n",
      "\n",
      "See the caveats in the documentation: http://pandas.pydata.org/pandas-docs/stable/indexing.html#indexing-view-versus-copy\n",
      "  \n"
     ]
    },
    {
     "data": {
      "text/html": [
       "<div>\n",
       "<style scoped>\n",
       "    .dataframe tbody tr th:only-of-type {\n",
       "        vertical-align: middle;\n",
       "    }\n",
       "\n",
       "    .dataframe tbody tr th {\n",
       "        vertical-align: top;\n",
       "    }\n",
       "\n",
       "    .dataframe thead th {\n",
       "        text-align: right;\n",
       "    }\n",
       "</style>\n",
       "<table border=\"1\" class=\"dataframe\">\n",
       "  <thead>\n",
       "    <tr style=\"text-align: right;\">\n",
       "      <th></th>\n",
       "      <th>ID</th>\n",
       "      <th>vendor_id</th>\n",
       "      <th>pickup_loc</th>\n",
       "      <th>drop_loc</th>\n",
       "      <th>driver_tip</th>\n",
       "      <th>mta_tax</th>\n",
       "      <th>distance</th>\n",
       "      <th>pickup_time</th>\n",
       "      <th>drop_time</th>\n",
       "      <th>num_passengers</th>\n",
       "      <th>toll_amount</th>\n",
       "      <th>payment_method</th>\n",
       "      <th>rate_code</th>\n",
       "      <th>stored_flag</th>\n",
       "      <th>extra_charges</th>\n",
       "      <th>improvement_charge</th>\n",
       "      <th>total_amount</th>\n",
       "      <th>day_of_week</th>\n",
       "      <th>hour</th>\n",
       "    </tr>\n",
       "  </thead>\n",
       "  <tbody>\n",
       "    <tr>\n",
       "      <th>0</th>\n",
       "      <td>0</td>\n",
       "      <td>0.300</td>\n",
       "      <td>170</td>\n",
       "      <td>233.000</td>\n",
       "      <td>1.830</td>\n",
       "      <td>0.500</td>\n",
       "      <td>0.700</td>\n",
       "      <td>2017-04-04 17:59:43</td>\n",
       "      <td>04/04/2017 06:05:04 PM</td>\n",
       "      <td>1.000</td>\n",
       "      <td>0.000</td>\n",
       "      <td>1.000</td>\n",
       "      <td>1.000</td>\n",
       "      <td>0</td>\n",
       "      <td>1.000</td>\n",
       "      <td>0.300</td>\n",
       "      <td>9.130</td>\n",
       "      <td>1</td>\n",
       "      <td>17</td>\n",
       "    </tr>\n",
       "    <tr>\n",
       "      <th>1</th>\n",
       "      <td>1</td>\n",
       "      <td>0.300</td>\n",
       "      <td>151</td>\n",
       "      <td>243.000</td>\n",
       "      <td>3.560</td>\n",
       "      <td>0.500</td>\n",
       "      <td>4.640</td>\n",
       "      <td>2017-04-03 19:03:34</td>\n",
       "      <td>04/03/2017 07:20:04 PM</td>\n",
       "      <td>1.000</td>\n",
       "      <td>0.000</td>\n",
       "      <td>1.000</td>\n",
       "      <td>1.000</td>\n",
       "      <td>0</td>\n",
       "      <td>1.000</td>\n",
       "      <td>0.300</td>\n",
       "      <td>21.360</td>\n",
       "      <td>0</td>\n",
       "      <td>19</td>\n",
       "    </tr>\n",
       "    <tr>\n",
       "      <th>2</th>\n",
       "      <td>2</td>\n",
       "      <td>0.300</td>\n",
       "      <td>68</td>\n",
       "      <td>90.000</td>\n",
       "      <td>1.500</td>\n",
       "      <td>0.500</td>\n",
       "      <td>1.290</td>\n",
       "      <td>2017-04-03 15:06:13</td>\n",
       "      <td>04/03/2017 03:12:30 PM</td>\n",
       "      <td>2.000</td>\n",
       "      <td>0.000</td>\n",
       "      <td>1.000</td>\n",
       "      <td>1.000</td>\n",
       "      <td>0</td>\n",
       "      <td>0.000</td>\n",
       "      <td>0.300</td>\n",
       "      <td>8.800</td>\n",
       "      <td>0</td>\n",
       "      <td>15</td>\n",
       "    </tr>\n",
       "    <tr>\n",
       "      <th>3</th>\n",
       "      <td>3</td>\n",
       "      <td>0.300</td>\n",
       "      <td>142</td>\n",
       "      <td>234.000</td>\n",
       "      <td>1.500</td>\n",
       "      <td>0.500</td>\n",
       "      <td>2.740</td>\n",
       "      <td>2017-04-04 08:10:52</td>\n",
       "      <td>04/04/2017 08:27:00 AM</td>\n",
       "      <td>1.000</td>\n",
       "      <td>0.000</td>\n",
       "      <td>1.000</td>\n",
       "      <td>1.000</td>\n",
       "      <td>0</td>\n",
       "      <td>0.000</td>\n",
       "      <td>0.300</td>\n",
       "      <td>14.800</td>\n",
       "      <td>1</td>\n",
       "      <td>8</td>\n",
       "    </tr>\n",
       "    <tr>\n",
       "      <th>4</th>\n",
       "      <td>4</td>\n",
       "      <td>0.300</td>\n",
       "      <td>238</td>\n",
       "      <td>238.000</td>\n",
       "      <td>0.000</td>\n",
       "      <td>0.500</td>\n",
       "      <td>0.450</td>\n",
       "      <td>2017-04-05 14:02:59</td>\n",
       "      <td>04/05/2017 02:05:41 PM</td>\n",
       "      <td>6.000</td>\n",
       "      <td>0.000</td>\n",
       "      <td>2.000</td>\n",
       "      <td>1.000</td>\n",
       "      <td>0</td>\n",
       "      <td>0.000</td>\n",
       "      <td>0.300</td>\n",
       "      <td>4.800</td>\n",
       "      <td>2</td>\n",
       "      <td>14</td>\n",
       "    </tr>\n",
       "  </tbody>\n",
       "</table>\n",
       "</div>"
      ],
      "text/plain": [
       "   ID  vendor_id  pickup_loc  ...  total_amount  day_of_week  hour\n",
       "0   0      0.300         170  ...         9.130            1    17\n",
       "1   1      0.300         151  ...        21.360            0    19\n",
       "2   2      0.300          68  ...         8.800            0    15\n",
       "3   3      0.300         142  ...        14.800            1     8\n",
       "4   4      0.300         238  ...         4.800            2    14\n",
       "\n",
       "[5 rows x 19 columns]"
      ]
     },
     "execution_count": 8,
     "metadata": {
      "tags": []
     },
     "output_type": "execute_result"
    }
   ],
   "source": [
    "df['day_of_week'] = df['pickup_time'].dt.dayofweek\n",
    "df['hour'] = df['pickup_time'].dt.hour\n",
    "# plot_\n",
    "df.head()"
   ]
  },
  {
   "cell_type": "code",
   "execution_count": 86,
   "metadata": {
    "colab": {
     "base_uri": "https://localhost:8080/",
     "height": 313
    },
    "colab_type": "code",
    "id": "nBSuccNMK-yX",
    "outputId": "b50c35c1-594a-4652-c09d-c72722449653"
   },
   "outputs": [
    {
     "data": {
      "image/png": "[encoded data removed]",
      "text/plain": [
       "<Figure size 432x288 with 1 Axes>"
      ]
     },
     "metadata": {
      "tags": []
     },
     "output_type": "display_data"
    },
    {
     "data": {
      "text/plain": [
       "<Figure size 1440x720 with 0 Axes>"
      ]
     },
     "metadata": {
      "tags": []
     },
     "output_type": "display_data"
    }
   ],
   "source": [
    "plot_scatter(df['day_of_week'],df['total_amount'],\"day_of_week vs. total_amount\",\"day_of_week\",\"total_amount\")"
   ]
  },
  {
   "cell_type": "code",
   "execution_count": 48,
   "metadata": {
    "colab": {
     "base_uri": "https://localhost:8080/",
     "height": 191
    },
    "colab_type": "code",
    "id": "TWcemvQqLzlA",
    "outputId": "25dcba3f-cda1-4794-dc4d-c6de40545d5b"
   },
   "outputs": [
    {
     "name": "stdout",
     "output_type": "stream",
     "text": [
      "Train dataset size:  838270\n",
      "Test size:  209568\n",
      "----Training Data results----\n",
      "RMSE: $4.4\n",
      "R2: 0.91\n",
      "\n",
      "----Test Data results----\n",
      "RMSE: $4.3\n",
      "R2: 0.91\n",
      "\n"
     ]
    }
   ],
   "source": [
    "X = df.drop(['total_amount','ID','pickup_time','drop_time' ], axis=1)\n",
    "y = df['total_amount']\n",
    "X_train, X_test, y_train, y_test = train_test_split(X, y, test_size=0.2, random_state=42)\n",
    "\n",
    "\n",
    "\n",
    "print(\"Train dataset size: \", X_train.shape[0])\n",
    "print(\"Test size: \", X_test.shape[0])\n",
    "\n",
    "\n",
    "from sklearn.linear_model import LinearRegression\n",
    "\n",
    "lm = LinearRegression().fit(X_train,y_train)\n",
    "model_results(X_train, y_train, X_test, y_test, lm)"
   ]
  },
  {
   "cell_type": "markdown",
   "metadata": {
    "colab_type": "text",
    "id": "WXXxFQ5aceT_"
   },
   "source": [
    "# New Section"
   ]
  },
  {
   "cell_type": "code",
   "execution_count": 0,
   "metadata": {
    "colab": {},
    "colab_type": "code",
    "id": "z3x8ck64UVym"
   },
   "outputs": [],
   "source": [
    "from sklearn.preprocessing import MinMaxScaler\n",
    "sc = MinMaxScaler()\n",
    "X = df.drop(['total_amount','ID','pickup_time','drop_time' ], axis=1)\n",
    "y = df['total_amount']\n",
    "\n",
    "sc.fit(X)\n",
    "\n",
    "X_train, X_test, y_train, y_test = train_test_split(X, y, test_size=0.2, random_state=42)"
   ]
  },
  {
   "cell_type": "code",
   "execution_count": 0,
   "metadata": {
    "colab": {},
    "colab_type": "code",
    "id": "NgDVApJPcmms"
   },
   "outputs": [],
   "source": [
    "from sklearn.model_selection import cross_val_score, GridSearchCV\n",
    "from sklearn.ensemble import RandomForestRegressor\n",
    "\n",
    "\n",
    "def rfr_model(X, y):# Perform Grid-Search\n",
    "  gsc = GridSearchCV(estimator=RandomForestRegressor(),\n",
    "        param_grid={\n",
    "          'max_depth': range(10,21),\n",
    "          'n_estimators': (10, 20, 50, 100),\n",
    "        },\n",
    "  cv=5, scoring='neg_mean_squared_error', verbose=0,n_jobs=-1)\n",
    "  grid_result = gsc.fit(X, y)\n",
    "  best_params = grid_result.best_params_\n",
    "  print(best_params)\n",
    "  rfr = RandomForestRegressor(max_depth=best_params[\"max_depth\"], n_estimators=best_params[\"n_estimators\"],random_state=False, verbose=False)# Perform K-Fold CV\n",
    "  scores = cross_val_score(rfr, X, y, cv=10, scoring='neg_mean_absolute_error')\n",
    "  return scores"
   ]
  },
  {
   "cell_type": "code",
   "execution_count": 0,
   "metadata": {
    "colab": {},
    "colab_type": "code",
    "id": "Uq7byQINe9W7"
   },
   "outputs": [],
   "source": [
    "rfr_model(X,y)"
   ]
  },
  {
   "cell_type": "code",
   "execution_count": 111,
   "metadata": {
    "colab": {
     "base_uri": "https://localhost:8080/",
     "height": 156
    },
    "colab_type": "code",
    "id": "R_aMlPZtMh7s",
    "outputId": "f64edeba-7548-426a-f8e8-4c9ab843e226"
   },
   "outputs": [
    {
     "name": "stdout",
     "output_type": "stream",
     "text": [
      "----Training Data results----\n",
      "RMSE: $1.1\n",
      "R2: 0.99\n",
      "\n",
      "----Test Data results----\n",
      "RMSE: $2.9\n",
      "R2: 0.96\n",
      "\n"
     ]
    }
   ],
   "source": [
    "from sklearn.ensemble import RandomForestRegressor\n",
    "\n",
    "rfr = RandomForestRegressor(n_estimators = 100, max_depth = 40, n_jobs = -1).fit(X_train,y_train)\n",
    "\n",
    "model_results(X_train, y_train, X_test, y_test, rfr)"
   ]
  },
  {
   "cell_type": "code",
   "execution_count": 0,
   "metadata": {
    "colab": {},
    "colab_type": "code",
    "id": "KBEVKJBHQI5z"
   },
   "outputs": [],
   "source": [
    "rurl='https://raw.githubusercontent.com/roopbiswas/chh-ola/master/test.csv?token=AIEZ6SBH5M6KLF2XTOC6F4K5PSAIK'\n",
    "res=pd.read_csv(rurl,encoding='utf7')\n",
    "res['stored_flag'] = res['stored_flag'].apply(lambda x: 0 if x=='N' else 1)\n",
    "\n",
    "res['pickup_time'] = pd.to_datetime(res['pickup_time'])\n",
    "\n",
    "res['day_of_week'] = res['pickup_time'].dt.dayofweek\n",
    "res['hour'] = res['pickup_time'].dt.hour"
   ]
  },
  {
   "cell_type": "code",
   "execution_count": 54,
   "metadata": {
    "colab": {
     "base_uri": "https://localhost:8080/",
     "height": 434
    },
    "colab_type": "code",
    "id": "RzdOgmTiAzL3",
    "outputId": "222a7a7d-ce1d-4748-b5e6-0a7c83f3131b"
   },
   "outputs": [
    {
     "name": "stderr",
     "output_type": "stream",
     "text": [
      "/usr/local/lib/python3.6/dist-packages/ipykernel_launcher.py:1: SettingWithCopyWarning: \n",
      "A value is trying to be set on a copy of a slice from a DataFrame.\n",
      "Try using .loc[row_indexer,col_indexer] = value instead\n",
      "\n",
      "See the caveats in the documentation: http://pandas.pydata.org/pandas-docs/stable/indexing.html#indexing-view-versus-copy\n",
      "  \"\"\"Entry point for launching an IPython kernel.\n",
      "/usr/local/lib/python3.6/dist-packages/ipykernel_launcher.py:2: SettingWithCopyWarning: \n",
      "A value is trying to be set on a copy of a slice from a DataFrame.\n",
      "Try using .loc[row_indexer,col_indexer] = value instead\n",
      "\n",
      "See the caveats in the documentation: http://pandas.pydata.org/pandas-docs/stable/indexing.html#indexing-view-versus-copy\n",
      "  \n",
      "/usr/local/lib/python3.6/dist-packages/ipykernel_launcher.py:3: SettingWithCopyWarning: \n",
      "A value is trying to be set on a copy of a slice from a DataFrame.\n",
      "Try using .loc[row_indexer,col_indexer] = value instead\n",
      "\n",
      "See the caveats in the documentation: http://pandas.pydata.org/pandas-docs/stable/indexing.html#indexing-view-versus-copy\n",
      "  This is separate from the ipykernel package so we can avoid doing imports until\n",
      "/usr/local/lib/python3.6/dist-packages/ipykernel_launcher.py:5: SettingWithCopyWarning: \n",
      "A value is trying to be set on a copy of a slice from a DataFrame.\n",
      "Try using .loc[row_indexer,col_indexer] = value instead\n",
      "\n",
      "See the caveats in the documentation: http://pandas.pydata.org/pandas-docs/stable/indexing.html#indexing-view-versus-copy\n",
      "  \"\"\"\n"
     ]
    }
   ],
   "source": [
    "df['vendor_id'] = df['vendor_id'].astype(int)\n",
    "df['pickup_loc'] = df['pickup_loc'].astype(float)\n",
    "df['hour'] = df['hour'].astype(float)\n",
    "res['day_of_week'] = res['day_of_week'].astype(int)\n",
    "res['stored_flag'] = res['stored_flag'].astype(int)"
   ]
  },
  {
   "cell_type": "code",
   "execution_count": 0,
   "metadata": {
    "colab": {},
    "colab_type": "code",
    "id": "gMze9KJH8vUa"
   },
   "outputs": [],
   "source": [
    "X = df.drop(['total_amount','ID','pickup_time','drop_time' ], axis=1)\n",
    "y = df['total_amount']\n",
    "from sklearn.ensemble import RandomForestRegressor\n",
    "\n",
    "rfr = RandomForestRegressor(n_estimators = 10, max_depth = 20, n_jobs = -1).fit(X,y)"
   ]
  },
  {
   "cell_type": "code",
   "execution_count": 86,
   "metadata": {
    "colab": {
     "base_uri": "https://localhost:8080/",
     "height": 712
    },
    "colab_type": "code",
    "id": "l914W85KAHzv",
    "outputId": "6a900212-09de-4fcd-b45b-731844e96bec"
   },
   "outputs": [
    {
     "name": "stdout",
     "output_type": "stream",
     "text": [
      "<class 'pandas.core.frame.DataFrame'>\n",
      "RangeIndex: 154235 entries, 0 to 154234\n",
      "Data columns (total 15 columns):\n",
      "vendor_id             154235 non-null int64\n",
      "pickup_loc            154235 non-null float64\n",
      "drop_loc              154235 non-null float64\n",
      "driver_tip            154235 non-null float64\n",
      "mta_tax               154235 non-null float64\n",
      "distance              154235 non-null float64\n",
      "num_passengers        154235 non-null float64\n",
      "toll_amount           154235 non-null float64\n",
      "payment_method        154235 non-null float64\n",
      "rate_code             154235 non-null float64\n",
      "stored_flag           154235 non-null int64\n",
      "extra_charges         154235 non-null float64\n",
      "improvement_charge    154235 non-null float64\n",
      "day_of_week           154235 non-null int64\n",
      "hour                  154235 non-null int64\n",
      "dtypes: float64(11), int64(4)\n",
      "memory usage: 17.7 MB\n",
      "<class 'pandas.core.frame.DataFrame'>\n",
      "Int64Index: 1047838 entries, 0 to 1048574\n",
      "Data columns (total 15 columns):\n",
      "vendor_id             1047838 non-null float64\n",
      "pickup_loc            1047838 non-null int64\n",
      "drop_loc              1047838 non-null float64\n",
      "driver_tip            1047838 non-null float64\n",
      "mta_tax               1047838 non-null float64\n",
      "distance              1047838 non-null float64\n",
      "num_passengers        1047838 non-null float64\n",
      "toll_amount           1047838 non-null float64\n",
      "payment_method        1047838 non-null float64\n",
      "rate_code             1047838 non-null float64\n",
      "stored_flag           1047838 non-null int64\n",
      "extra_charges         1047838 non-null float64\n",
      "improvement_charge    1047838 non-null float64\n",
      "day_of_week           1047838 non-null int64\n",
      "hour                  1047838 non-null int64\n",
      "dtypes: float64(11), int64(4)\n",
      "memory usage: 167.9 MB\n"
     ]
    }
   ],
   "source": [
    "X_test = res.drop([ 'ID','pickup_time','drop_time' ], axis=1)\n",
    "X_test.info()\n",
    "X.info()"
   ]
  },
  {
   "cell_type": "code",
   "execution_count": 0,
   "metadata": {
    "colab": {},
    "colab_type": "code",
    "id": "M4QXbUHr_gSa"
   },
   "outputs": [],
   "source": [
    "\n",
    "y_test_pred = rfr.predict(X_test)"
   ]
  },
  {
   "cell_type": "code",
   "execution_count": 89,
   "metadata": {
    "colab": {
     "base_uri": "https://localhost:8080/",
     "height": 52
    },
    "colab_type": "code",
    "id": "5lsu9nlNIap9",
    "outputId": "d7f3a44e-4015-4e75-e86f-b6e8a945a03c"
   },
   "outputs": [
    {
     "data": {
      "text/plain": [
       "array([ 6.84038586, 14.49866503, 17.77411079, ...,  9.40261522,\n",
       "       14.61550269, 15.96      ])"
      ]
     },
     "execution_count": 89,
     "metadata": {
      "tags": []
     },
     "output_type": "execute_result"
    }
   ],
   "source": [
    "y_test_pred"
   ]
  },
  {
   "cell_type": "code",
   "execution_count": 0,
   "metadata": {
    "colab": {},
    "colab_type": "code",
    "id": "mI_VphX8IcNH"
   },
   "outputs": [],
   "source": [
    "sub = pd.DataFrame(columns=['ID','total_amount'])"
   ]
  },
  {
   "cell_type": "code",
   "execution_count": 95,
   "metadata": {
    "colab": {
     "base_uri": "https://localhost:8080/",
     "height": 139
    },
    "colab_type": "code",
    "id": "JBnIRehRJ9b0",
    "outputId": "d4d0078a-ab4c-4c43-9008-924c2a40d11f"
   },
   "outputs": [
    {
     "name": "stdout",
     "output_type": "stream",
     "text": [
      "<class 'pandas.core.frame.DataFrame'>\n",
      "RangeIndex: 154235 entries, 0 to 154234\n",
      "Data columns (total 2 columns):\n",
      "ID              154235 non-null int64\n",
      "total_amount    154235 non-null float64\n",
      "dtypes: float64(1), int64(1)\n",
      "memory usage: 2.4 MB\n"
     ]
    }
   ],
   "source": [
    "sub['ID'] = res['ID']\n",
    "sub['total_amount'] = y_test_pred\n",
    "sub.info()"
   ]
  },
  {
   "cell_type": "code",
   "execution_count": 98,
   "metadata": {
    "colab": {
     "base_uri": "https://localhost:8080/",
     "height": 141
    },
    "colab_type": "code",
    "id": "vu9d2yBVKBQF",
    "outputId": "d08d17f8-9a03-44ba-f6c4-8977875b2782"
   },
   "outputs": [
    {
     "name": "stdout",
     "output_type": "stream",
     "text": [
      "Go to this URL in a browser: https://accounts.google.com/o/oauth2/auth?client_id=947318989803-6bn6qk8qdgf4n4g3pfee6491hc0brc4i.apps.googleusercontent.com&redirect_uri=urn%3Aietf%3Awg%3Aoauth%3A2.0%3Aoob&scope=email%20https%3A%2F%2Fwww.googleapis.com%2Fauth%2Fdocs.test%20https%3A%2F%2Fwww.googleapis.com%2Fauth%2Fdrive%20https%3A%2F%2Fwww.googleapis.com%2Fauth%2Fdrive.photos.readonly%20https%3A%2F%2Fwww.googleapis.com%2Fauth%2Fpeopleapi.readonly&response_type=code\n",
      "\n",
      "Enter your authorization code:\n",
      "··········\n",
      "Mounted at /content/gdrive\n",
      "Drive already mounted at /content/gdrive; to attempt to forcibly remount, call drive.mount(\"/content/gdrive\", force_remount=True).\n"
     ]
    }
   ],
   "source": [
    "from google.colab import drive\n",
    "drive.mount('/content/gdrive')\n"
   ]
  },
  {
   "cell_type": "code",
   "execution_count": 101,
   "metadata": {
    "colab": {
     "base_uri": "https://localhost:8080/",
     "height": 34
    },
    "colab_type": "code",
    "id": "kbgU6QPfLj6I",
    "outputId": "a545be26-e6b3-484d-d508-38a2205435bb"
   },
   "outputs": [
    {
     "name": "stdout",
     "output_type": "stream",
     "text": [
      "/content/gdrive\n"
     ]
    }
   ],
   "source": [
    "cd gdrive"
   ]
  },
  {
   "cell_type": "code",
   "execution_count": 102,
   "metadata": {
    "colab": {
     "base_uri": "https://localhost:8080/",
     "height": 34
    },
    "colab_type": "code",
    "id": "LHthK1kPLMp5",
    "outputId": "5611bde4-3c13-4419-e918-1aed55516109"
   },
   "outputs": [
    {
     "name": "stdout",
     "output_type": "stream",
     "text": [
      "/content/gdrive/My Drive\n"
     ]
    }
   ],
   "source": [
    "cd My Drive"
   ]
  },
  {
   "cell_type": "code",
   "execution_count": 0,
   "metadata": {
    "colab": {},
    "colab_type": "code",
    "id": "bVk5TymJMURC"
   },
   "outputs": [],
   "source": [
    "sub.to_csv('submission_chhola.csv',index=False)"
   ]
  },
  {
   "cell_type": "code",
   "execution_count": 0,
   "metadata": {
    "colab": {},
    "colab_type": "code",
    "id": "tz3nj2fJMeVe"
   },
   "outputs": [],
   "source": []
  }
 ],
 "metadata": {
  "colab": {
   "collapsed_sections": [],
   "name": "chhola.ipynb",
   "provenance": [],
   "version": "0.3.2"
  },
  "kernelspec": {
   "display_name": "Python 3",
   "language": "python",
   "name": "python3"
  },
  "language_info": {
   "codemirror_mode": {
    "name": "ipython",
    "version": 3
   },
   "file_extension": ".py",
   "mimetype": "text/x-python",
   "name": "python",
   "nbconvert_exporter": "python",
   "pygments_lexer": "ipython3",
   "version": "3.6.4"
  }
 },
 "nbformat": 4,
 "nbformat_minor": 1
}
